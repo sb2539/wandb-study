{
  "nbformat": 4,
  "nbformat_minor": 0,
  "metadata": {
    "colab": {
      "name": "wandblogtest.ipynb",
      "provenance": []
    },
    "kernelspec": {
      "name": "python3",
      "display_name": "Python 3"
    },
    "language_info": {
      "name": "python"
    },
    "widgets": {
      "application/vnd.jupyter.widget-state+json": {
        "7a325f6b8e0a4389b713c893ecd11bbb": {
          "model_module": "@jupyter-widgets/controls",
          "model_name": "VBoxModel",
          "model_module_version": "1.5.0",
          "state": {
            "_view_name": "VBoxView",
            "_dom_classes": [],
            "_model_name": "VBoxModel",
            "_view_module": "@jupyter-widgets/controls",
            "_model_module_version": "1.5.0",
            "_view_count": null,
            "_view_module_version": "1.5.0",
            "box_style": "",
            "layout": "IPY_MODEL_67628f4b23dd479aab1d1ff38af20184",
            "_model_module": "@jupyter-widgets/controls",
            "children": [
              "IPY_MODEL_84cf249eedbd42cd9cd9c186b882441f",
              "IPY_MODEL_188bbe7915d743668c723437b50766de"
            ]
          }
        },
        "67628f4b23dd479aab1d1ff38af20184": {
          "model_module": "@jupyter-widgets/base",
          "model_name": "LayoutModel",
          "model_module_version": "1.2.0",
          "state": {
            "_view_name": "LayoutView",
            "grid_template_rows": null,
            "right": null,
            "justify_content": null,
            "_view_module": "@jupyter-widgets/base",
            "overflow": null,
            "_model_module_version": "1.2.0",
            "_view_count": null,
            "flex_flow": null,
            "width": null,
            "min_width": null,
            "border": null,
            "align_items": null,
            "bottom": null,
            "_model_module": "@jupyter-widgets/base",
            "top": null,
            "grid_column": null,
            "overflow_y": null,
            "overflow_x": null,
            "grid_auto_flow": null,
            "grid_area": null,
            "grid_template_columns": null,
            "flex": null,
            "_model_name": "LayoutModel",
            "justify_items": null,
            "grid_row": null,
            "max_height": null,
            "align_content": null,
            "visibility": null,
            "align_self": null,
            "height": null,
            "min_height": null,
            "padding": null,
            "grid_auto_rows": null,
            "grid_gap": null,
            "max_width": null,
            "order": null,
            "_view_module_version": "1.2.0",
            "grid_template_areas": null,
            "object_position": null,
            "object_fit": null,
            "grid_auto_columns": null,
            "margin": null,
            "display": null,
            "left": null
          }
        },
        "84cf249eedbd42cd9cd9c186b882441f": {
          "model_module": "@jupyter-widgets/controls",
          "model_name": "LabelModel",
          "model_module_version": "1.5.0",
          "state": {
            "_view_name": "LabelView",
            "style": "IPY_MODEL_3185aadde04144bc8911d7ef0068dd82",
            "_dom_classes": [],
            "description": "",
            "_model_name": "LabelModel",
            "placeholder": "​",
            "_view_module": "@jupyter-widgets/controls",
            "_model_module_version": "1.5.0",
            "value": " 0.01MB of 0.01MB uploaded (0.00MB deduped)\r",
            "_view_count": null,
            "_view_module_version": "1.5.0",
            "description_tooltip": null,
            "_model_module": "@jupyter-widgets/controls",
            "layout": "IPY_MODEL_7fe9bf7960db4e6f8a700a8cba3c5c70"
          }
        },
        "188bbe7915d743668c723437b50766de": {
          "model_module": "@jupyter-widgets/controls",
          "model_name": "FloatProgressModel",
          "model_module_version": "1.5.0",
          "state": {
            "_view_name": "ProgressView",
            "style": "IPY_MODEL_b45cb7e2f4874e45a831aa6d09877c13",
            "_dom_classes": [],
            "description": "",
            "_model_name": "FloatProgressModel",
            "bar_style": "",
            "max": 1,
            "_view_module": "@jupyter-widgets/controls",
            "_model_module_version": "1.5.0",
            "value": 1,
            "_view_count": null,
            "_view_module_version": "1.5.0",
            "orientation": "horizontal",
            "min": 0,
            "description_tooltip": null,
            "_model_module": "@jupyter-widgets/controls",
            "layout": "IPY_MODEL_19805dea53504237b40ba5136a7d5fb0"
          }
        },
        "3185aadde04144bc8911d7ef0068dd82": {
          "model_module": "@jupyter-widgets/controls",
          "model_name": "DescriptionStyleModel",
          "model_module_version": "1.5.0",
          "state": {
            "_view_name": "StyleView",
            "_model_name": "DescriptionStyleModel",
            "description_width": "",
            "_view_module": "@jupyter-widgets/base",
            "_model_module_version": "1.5.0",
            "_view_count": null,
            "_view_module_version": "1.2.0",
            "_model_module": "@jupyter-widgets/controls"
          }
        },
        "7fe9bf7960db4e6f8a700a8cba3c5c70": {
          "model_module": "@jupyter-widgets/base",
          "model_name": "LayoutModel",
          "model_module_version": "1.2.0",
          "state": {
            "_view_name": "LayoutView",
            "grid_template_rows": null,
            "right": null,
            "justify_content": null,
            "_view_module": "@jupyter-widgets/base",
            "overflow": null,
            "_model_module_version": "1.2.0",
            "_view_count": null,
            "flex_flow": null,
            "width": null,
            "min_width": null,
            "border": null,
            "align_items": null,
            "bottom": null,
            "_model_module": "@jupyter-widgets/base",
            "top": null,
            "grid_column": null,
            "overflow_y": null,
            "overflow_x": null,
            "grid_auto_flow": null,
            "grid_area": null,
            "grid_template_columns": null,
            "flex": null,
            "_model_name": "LayoutModel",
            "justify_items": null,
            "grid_row": null,
            "max_height": null,
            "align_content": null,
            "visibility": null,
            "align_self": null,
            "height": null,
            "min_height": null,
            "padding": null,
            "grid_auto_rows": null,
            "grid_gap": null,
            "max_width": null,
            "order": null,
            "_view_module_version": "1.2.0",
            "grid_template_areas": null,
            "object_position": null,
            "object_fit": null,
            "grid_auto_columns": null,
            "margin": null,
            "display": null,
            "left": null
          }
        },
        "b45cb7e2f4874e45a831aa6d09877c13": {
          "model_module": "@jupyter-widgets/controls",
          "model_name": "ProgressStyleModel",
          "model_module_version": "1.5.0",
          "state": {
            "_view_name": "StyleView",
            "_model_name": "ProgressStyleModel",
            "description_width": "",
            "_view_module": "@jupyter-widgets/base",
            "_model_module_version": "1.5.0",
            "_view_count": null,
            "_view_module_version": "1.2.0",
            "bar_color": null,
            "_model_module": "@jupyter-widgets/controls"
          }
        },
        "19805dea53504237b40ba5136a7d5fb0": {
          "model_module": "@jupyter-widgets/base",
          "model_name": "LayoutModel",
          "model_module_version": "1.2.0",
          "state": {
            "_view_name": "LayoutView",
            "grid_template_rows": null,
            "right": null,
            "justify_content": null,
            "_view_module": "@jupyter-widgets/base",
            "overflow": null,
            "_model_module_version": "1.2.0",
            "_view_count": null,
            "flex_flow": null,
            "width": null,
            "min_width": null,
            "border": null,
            "align_items": null,
            "bottom": null,
            "_model_module": "@jupyter-widgets/base",
            "top": null,
            "grid_column": null,
            "overflow_y": null,
            "overflow_x": null,
            "grid_auto_flow": null,
            "grid_area": null,
            "grid_template_columns": null,
            "flex": null,
            "_model_name": "LayoutModel",
            "justify_items": null,
            "grid_row": null,
            "max_height": null,
            "align_content": null,
            "visibility": null,
            "align_self": null,
            "height": null,
            "min_height": null,
            "padding": null,
            "grid_auto_rows": null,
            "grid_gap": null,
            "max_width": null,
            "order": null,
            "_view_module_version": "1.2.0",
            "grid_template_areas": null,
            "object_position": null,
            "object_fit": null,
            "grid_auto_columns": null,
            "margin": null,
            "display": null,
            "left": null
          }
        }
      }
    }
  },
  "cells": [
    {
      "cell_type": "code",
      "metadata": {
        "colab": {
          "base_uri": "https://localhost:8080/"
        },
        "id": "NZVy-zdq6qmg",
        "outputId": "a85111d0-c3e1-4c3d-8aa8-f76e1fb28941"
      },
      "source": [
        "!pip install wandb"
      ],
      "execution_count": 1,
      "outputs": [
        {
          "metadata": {
            "tags": null
          },
          "name": "stdout",
          "output_type": "stream",
          "text": [
            "Collecting wandb\n",
            "  Downloading wandb-0.12.7-py2.py3-none-any.whl (1.7 MB)\n",
            "\u001b[K     |████████████████████████████████| 1.7 MB 4.2 MB/s \n",
            "\u001b[?25hCollecting shortuuid>=0.5.0\n",
            "  Downloading shortuuid-1.0.8-py3-none-any.whl (9.5 kB)\n",
            "Collecting configparser>=3.8.1\n",
            "  Downloading configparser-5.2.0-py3-none-any.whl (19 kB)\n",
            "Requirement already satisfied: python-dateutil>=2.6.1 in /usr/local/lib/python3.7/dist-packages (from wandb) (2.8.2)\n",
            "Requirement already satisfied: Click!=8.0.0,>=7.0 in /usr/local/lib/python3.7/dist-packages (from wandb) (7.1.2)\n",
            "Requirement already satisfied: six>=1.13.0 in /usr/local/lib/python3.7/dist-packages (from wandb) (1.15.0)\n",
            "Collecting subprocess32>=3.5.3\n",
            "  Downloading subprocess32-3.5.4.tar.gz (97 kB)\n",
            "\u001b[K     |████████████████████████████████| 97 kB 2.3 MB/s \n",
            "\u001b[?25hRequirement already satisfied: PyYAML in /usr/local/lib/python3.7/dist-packages (from wandb) (3.13)\n",
            "Collecting yaspin>=1.0.0\n",
            "  Downloading yaspin-2.1.0-py3-none-any.whl (18 kB)\n",
            "Requirement already satisfied: requests<3,>=2.0.0 in /usr/local/lib/python3.7/dist-packages (from wandb) (2.23.0)\n",
            "Requirement already satisfied: psutil>=5.0.0 in /usr/local/lib/python3.7/dist-packages (from wandb) (5.4.8)\n",
            "Requirement already satisfied: promise<3,>=2.0 in /usr/local/lib/python3.7/dist-packages (from wandb) (2.3)\n",
            "Collecting pathtools\n",
            "  Downloading pathtools-0.1.2.tar.gz (11 kB)\n",
            "Collecting docker-pycreds>=0.4.0\n",
            "  Downloading docker_pycreds-0.4.0-py2.py3-none-any.whl (9.0 kB)\n",
            "Requirement already satisfied: protobuf>=3.12.0 in /usr/local/lib/python3.7/dist-packages (from wandb) (3.17.3)\n",
            "Collecting sentry-sdk>=1.0.0\n",
            "  Downloading sentry_sdk-1.5.0-py2.py3-none-any.whl (140 kB)\n",
            "\u001b[K     |████████████████████████████████| 140 kB 67.1 MB/s \n",
            "\u001b[?25hCollecting GitPython>=1.0.0\n",
            "  Downloading GitPython-3.1.24-py3-none-any.whl (180 kB)\n",
            "\u001b[K     |████████████████████████████████| 180 kB 72.8 MB/s \n",
            "\u001b[?25hCollecting gitdb<5,>=4.0.1\n",
            "  Downloading gitdb-4.0.9-py3-none-any.whl (63 kB)\n",
            "\u001b[K     |████████████████████████████████| 63 kB 1.5 MB/s \n",
            "\u001b[?25hRequirement already satisfied: typing-extensions>=3.7.4.3 in /usr/local/lib/python3.7/dist-packages (from GitPython>=1.0.0->wandb) (3.10.0.2)\n",
            "Collecting smmap<6,>=3.0.1\n",
            "  Downloading smmap-5.0.0-py3-none-any.whl (24 kB)\n",
            "Requirement already satisfied: chardet<4,>=3.0.2 in /usr/local/lib/python3.7/dist-packages (from requests<3,>=2.0.0->wandb) (3.0.4)\n",
            "Requirement already satisfied: certifi>=2017.4.17 in /usr/local/lib/python3.7/dist-packages (from requests<3,>=2.0.0->wandb) (2021.10.8)\n",
            "Requirement already satisfied: urllib3!=1.25.0,!=1.25.1,<1.26,>=1.21.1 in /usr/local/lib/python3.7/dist-packages (from requests<3,>=2.0.0->wandb) (1.24.3)\n",
            "Requirement already satisfied: idna<3,>=2.5 in /usr/local/lib/python3.7/dist-packages (from requests<3,>=2.0.0->wandb) (2.10)\n",
            "Requirement already satisfied: termcolor<2.0.0,>=1.1.0 in /usr/local/lib/python3.7/dist-packages (from yaspin>=1.0.0->wandb) (1.1.0)\n",
            "Building wheels for collected packages: subprocess32, pathtools\n",
            "  Building wheel for subprocess32 (setup.py) ... \u001b[?25l\u001b[?25hdone\n",
            "  Created wheel for subprocess32: filename=subprocess32-3.5.4-py3-none-any.whl size=6502 sha256=4a93990442785da268750415fadd586edcdc2dc0936ba1a22531b4feb7e72b16\n",
            "  Stored in directory: /root/.cache/pip/wheels/50/ca/fa/8fca8d246e64f19488d07567547ddec8eb084e8c0d7a59226a\n",
            "  Building wheel for pathtools (setup.py) ... \u001b[?25l\u001b[?25hdone\n",
            "  Created wheel for pathtools: filename=pathtools-0.1.2-py3-none-any.whl size=8807 sha256=3dda55ce3187d8dad53eeeee73f312e31c2b39709ffdd3fd41c5c35e2298850d\n",
            "  Stored in directory: /root/.cache/pip/wheels/3e/31/09/fa59cef12cdcfecc627b3d24273699f390e71828921b2cbba2\n",
            "Successfully built subprocess32 pathtools\n",
            "Installing collected packages: smmap, gitdb, yaspin, subprocess32, shortuuid, sentry-sdk, pathtools, GitPython, docker-pycreds, configparser, wandb\n",
            "Successfully installed GitPython-3.1.24 configparser-5.2.0 docker-pycreds-0.4.0 gitdb-4.0.9 pathtools-0.1.2 sentry-sdk-1.5.0 shortuuid-1.0.8 smmap-5.0.0 subprocess32-3.5.4 wandb-0.12.7 yaspin-2.1.0\n"
          ]
        }
      ]
    },
    {
      "cell_type": "code",
      "metadata": {
        "colab": {
          "base_uri": "https://localhost:8080/"
        },
        "id": "eAoG_EPE67rZ",
        "outputId": "25597caa-80e4-4c88-b78d-d4c21a0a109c"
      },
      "source": [
        "!wandb login"
      ],
      "execution_count": 2,
      "outputs": [
        {
          "output_type": "stream",
          "name": "stdout",
          "text": [
            "\u001b[34m\u001b[1mwandb\u001b[0m: You can find your API key in your browser here: https://wandb.ai/authorize\n",
            "\u001b[34m\u001b[1mwandb\u001b[0m: Paste an API key from your profile and hit enter, or press ctrl+c to quit: \n",
            "\u001b[34m\u001b[1mwandb\u001b[0m: Appending key for api.wandb.ai to your netrc file: /root/.netrc\n"
          ]
        }
      ]
    },
    {
      "cell_type": "code",
      "metadata": {
        "colab": {
          "base_uri": "https://localhost:8080/",
          "height": 198,
          "referenced_widgets": [
            "7a325f6b8e0a4389b713c893ecd11bbb",
            "67628f4b23dd479aab1d1ff38af20184",
            "84cf249eedbd42cd9cd9c186b882441f",
            "188bbe7915d743668c723437b50766de",
            "3185aadde04144bc8911d7ef0068dd82",
            "7fe9bf7960db4e6f8a700a8cba3c5c70",
            "b45cb7e2f4874e45a831aa6d09877c13",
            "19805dea53504237b40ba5136a7d5fb0"
          ]
        },
        "id": "2QvKzh9v7GCQ",
        "outputId": "0f9b09f7-061d-4fda-d62a-be099d76289c"
      },
      "source": [
        "import wandb\n",
        "\n",
        "wandb.init(project = \"wandb.log test\", entity = \"sb2539\", name = \"wandblog\")"
      ],
      "execution_count": 4,
      "outputs": [
        {
          "output_type": "display_data",
          "data": {
            "text/html": [
              "Finishing last run (ID:39wkcytx) before initializing another..."
            ],
            "text/plain": [
              "<IPython.core.display.HTML object>"
            ]
          },
          "metadata": {}
        },
        {
          "output_type": "display_data",
          "data": {
            "text/html": [
              "<br/>Waiting for W&B process to finish, PID 149... <strong style=\"color:green\">(success).</strong>"
            ],
            "text/plain": [
              "<IPython.core.display.HTML object>"
            ]
          },
          "metadata": {}
        },
        {
          "output_type": "display_data",
          "data": {
            "application/vnd.jupyter.widget-view+json": {
              "model_id": "7a325f6b8e0a4389b713c893ecd11bbb",
              "version_minor": 0,
              "version_major": 2
            },
            "text/plain": [
              "VBox(children=(Label(value=' 0.00MB of 0.00MB uploaded (0.00MB deduped)\\r'), FloatProgress(value=1.0, max=1.0)…"
            ]
          },
          "metadata": {}
        },
        {
          "output_type": "display_data",
          "data": {
            "text/html": [
              "<style>\n",
              "    table.wandb td:nth-child(1) { padding: 0 10px; text-align: right }\n",
              "    .wandb-row { display: flex; flex-direction: row; flex-wrap: wrap; width: 100% }\n",
              "    .wandb-col { display: flex; flex-direction: column; flex-basis: 100%; flex: 1; padding: 10px; }\n",
              "    </style>\n",
              "<div class=\"wandb-row\"><div class=\"wandb-col\">\n",
              "</div><div class=\"wandb-col\">\n",
              "</div></div>\n",
              "Synced 4 W&B file(s), 0 media file(s), 0 artifact file(s) and 0 other file(s)\n",
              "<br/>Synced <strong style=\"color:#cdcd00\">regression with boston.csb</strong>: <a href=\"https://wandb.ai/sb2539/linear%20and%20multiple%20regression%20with%20wandb/runs/39wkcytx\" target=\"_blank\">https://wandb.ai/sb2539/linear%20and%20multiple%20regression%20with%20wandb/runs/39wkcytx</a><br/>\n",
              "Find logs at: <code>./wandb/run-20211207_032514-39wkcytx/logs</code><br/>\n"
            ],
            "text/plain": [
              "<IPython.core.display.HTML object>"
            ]
          },
          "metadata": {}
        },
        {
          "output_type": "display_data",
          "data": {
            "text/html": [
              "Successfully finished last run (ID:39wkcytx). Initializing new run:<br/>"
            ],
            "text/plain": [
              "<IPython.core.display.HTML object>"
            ]
          },
          "metadata": {}
        },
        {
          "output_type": "display_data",
          "data": {
            "text/html": [
              "\n",
              "                    Syncing run <strong><a href=\"https://wandb.ai/sb2539/wandb.log%20test/runs/2c55dj9p\" target=\"_blank\">wandblog</a></strong> to <a href=\"https://wandb.ai/sb2539/wandb.log%20test\" target=\"_blank\">Weights & Biases</a> (<a href=\"https://docs.wandb.com/integrations/jupyter.html\" target=\"_blank\">docs</a>).<br/>\n",
              "\n",
              "                "
            ],
            "text/plain": [
              "<IPython.core.display.HTML object>"
            ]
          },
          "metadata": {}
        },
        {
          "output_type": "execute_result",
          "data": {
            "text/plain": [
              "<wandb.sdk.wandb_run.Run at 0x7fc938c237d0>"
            ],
            "text/html": [
              "<button onClick=\"this.nextSibling.style.display='block';this.style.display='none';\">Display W&B run</button><iframe src=\"https://wandb.ai/sb2539/wandb.log%20test/runs/2c55dj9p?jupyter=true\" style=\"border:none;width:100%;height:420px;display:none;\"></iframe>"
            ]
          },
          "metadata": {},
          "execution_count": 4
        }
      ]
    },
    {
      "cell_type": "code",
      "metadata": {
        "id": "Fd2nSKvo70Lh"
      },
      "source": [
        "import matplotlib.pyplot as plt  \n",
        "plt.plot([1, 2, 3, 4])\n",
        "plt.ylabel('some interesting numbers')\n",
        "wandb.log({\"chart\": plt})# example of wandblog"
      ],
      "execution_count": 5,
      "outputs": []
    },
    {
      "cell_type": "markdown",
      "metadata": {
        "id": "zNfBvmehJSUk"
      },
      "source": [
        "![wandblogtest.JPG](data:image/jpeg;base64,/9j/4AAQSkZJRgABAQEAYABgAAD/4RDYRXhpZgAATU0AKgAAAAgABAE7AAIAAAAHAAAISodpAAQAAAABAAAIUpydAAEAAAAGAAAQyuocAAcAAAgMAAAAPgAAAAAc6gAAAAgAAAAAAAAAAAAAAAAAAAAAAAAAAAAAAAAAAAAAAAAAAAAAAAAAAAAAAAAAAAAAAAAAAAAAAAAAAAAAAAAAAAAAAAAAAAAAAAAAAAAAAAAAAAAAAAAAAAAAAAAAAAAAAAAAAAAAAAAAAAAAAAAAAAAAAAAAAAAAAAAAAAAAAAAAAAAAAAAAAAAAAAAAAAAAAAAAAAAAAAAAAAAAAAAAAAAAAAAAAAAAAAAAAAAAAAAAAAAAAAAAAAAAAAAAAAAAAAAAAAAAAAAAAAAAAAAAAAAAAAAAAAAAAAAAAAAAAAAAAAAAAAAAAAAAAAAAAAAAAAAAAAAAAAAAAAAAAAAAAAAAAAAAAAAAAAAAAAAAAAAAAAAAAAAAAAAAAAAAAAAAAAAAAAAAAAAAAAAAAAAAAAAAAAAAAAAAAAAAAAAAAAAAAAAAAAAAAAAAAAAAAAAAAAAAAAAAAAAAAAAAAAAAAAAAAAAAAAAAAAAAAAAAAAAAAAAAAAAAAAAAAAAAAAAAAAAAAAAAAAAAAAAAAAAAAAAAAAAAAAAAAAAAAAAAAAAAAAAAAAAAAAAAAAAAAAAAAAAAAAAAAAAAAAAAAAAAAAAAAAAAAAAAAAAAAAAAAAAAAAAAAAAAAAAAAAAAAAAAAAAAAAAAAAAAAAAAAAAAAAAAAAAAAAAAAAAAAAAAAAAAAAAAAAAAAAAAAAAAAAAAAAAAAAAAAAAAAAAAAAAAAAAAAAAAAAAAAAAAAAAAAAAAAAAAAAAAAAAAAAAAAAAAAAAAAAAAAAAAAAAAAAAAAAAAAAAAAAAAAAAAAAAAAAAAAAAAAAAAAAAAAAAAAAAAAAAAAAAAAAAAAAAAAAAAAAAAAAAAAAAAAAAAAAAAAAAAAAAAAAAAAAAAAAAAAAAAAAAAAAAAAAAAAAAAAAAAAAAAAAAAAAAAAAAAAAAAAAAAAAAAAAAAAAAAAAAAAAAAAAAAAAAAAAAAAAAAAAAAAAAAAAAAAAAAAAAAAAAAAAAAAAAAAAAAAAAAAAAAAAAAAAAAAAAAAAAAAAAAAAAAAAAAAAAAAAAAAAAAAAAAAAAAAAAAAAAAAAAAAAAAAAAAAAAAAAAAAAAAAAAAAAAAAAAAAAAAAAAAAAAAAAAAAAAAAAAAAAAAAAAAAAAAAAAAAAAAAAAAAAAAAAAAAAAAAAAAAAAAAAAAAAAAAAAAAAAAAAAAAAAAAAAAAAAAAAAAAAAAAAAAAAAAAAAAAAAAAAAAAAAAAAAAAAAAAAAAAAAAAAAAAAAAAAAAAAAAAAAAAAAAAAAAAAAAAAAAAAAAAAAAAAAAAAAAAAAAAAAAAAAAAAAAAAAAAAAAAAAAAAAAAAAAAAAAAAAAAAAAAAAAAAAAAAAAAAAAAAAAAAAAAAAAAAAAAAAAAAAAAAAAAAAAAAAAAAAAAAAAAAAAAAAAAAAAAAAAAAAAAAAAAAAAAAAAAAAAAAAAAAAAAAAAAAAAAAAAAAAAAAAAAAAAAAAAAAAAAAAAAAAAAAAAAAAAAAAAAAAAAAAAAAAAAAAAAAAAAAAAAAAAAAAAAAAAAAAAAAAAAAAAAAAAAAAAAAAAAAAAAAAAAAAAAAAAAAAAAAAAAAAAAAAAAAAAAAAAAAAAAAAAAAAAAAAAAAAAAAAAAAAAAAAAAAAAAAAAAAAAAAAAAAAAAAAAAAAAAAAAAAAAAAAAAAAAAAAAAAAAAAAAAAAAAAAAAAAAAAAAAAAAAAAAAAAAAAAAAAAAAAAAAAAAAAAAAAAAAAAAAAAAAAAAAAAAAAAAAAAAAAAAAAAAAAAAAAAAAAAAAAAAAAAAAAAAAAAAAAAAAAAAAAAAAAAAAAAAAAAAAAAAAAAAAAAAAAAAAAAAAAAAAAAAAAAAAAAAAAAAAAAAAAAAAAAAAAAAAAAAAAAAAAAAAAAAAAAAAAAAAAAAAAAAAAAAAAAAAAAAAAAAAAAAAAAAAAAAAAAAAAAAAAAAAAAAAAAAAAAAAAAAAAAAAAAAAAAAAAAAAAAAAAAAAAAAAAAAAAAAAAAAAAAAAAAAAAAAAAAAAAAAAAAAAAAAAAAAAAAAAAAAAAAAAAAAAAAAAAAAAAAAAAAAAAAAAAAAAAAAAAAAAAAAAAAAAAAAAAAAAAAAAAAAAAAAAAAAAAAAAAAAAAAAAAAAAAAAAAAAAAAAAAAAAAAAAAAAAAAAAAAAAAAAAAAAAAAAAAAAAAAAAAAAAAAAAAAAAAAAAAAAAAAAAAAAAAAAAAAAAAAAAAAAAAAAAAAAAAAAAAAAAAAAAAAAAAAAAAAAAAAAAAAAAAAAAAAAAAAAAAAAAAAAAAAAAAAAAAAAAAAAAAAAAAAAAAAAAAAAAAAAAAAAAAAAAAAAAAAAAAAAAAAAAAAAAAAAAAAAAAAAAAAAAAAAAAAAAAAAAAAAAAAAAAAAAAAAAAAAAAAAAAAAAAAAAAAAAAAAAAAAAAAAAAAAAAAAAAAAAAAAAAAAAAAAAAAAAAAAAAAAAAAAAAAAAAAAAAAAAAAAAAAAAAAAAAAAAAAAAAAAAAAAAAAAAAAAAAAAAAAAAAAAAAAAAAAAAAAAAAAAAAAAAAAAAAAAAAAAAAAAAAAAAAAAAAAAAAAAAAAAAAAAAAAAAAAAAAAAAAAAAAAAAAAAAAAAAAAAAAAAAAAAAAAAAAAAAAAAAAAAAAAAAAAAAAAAAAAAAAAAAAAAAAAAAAAAAAAAAAAAAAAAAAAAAAAAAAAAAAAAAAAAAAAAAAAAAAAAAOuyhOuvuAAAAAWQAwACAAAAFAAAEKCQBAACAAAAFAAAELSSkQACAAAAAzMyAACSkgACAAAAAzMyAADqHAAHAAAIDAAACJQAAAAAHOoAAAAIAAAAAAAAAAAAAAAAAAAAAAAAAAAAAAAAAAAAAAAAAAAAAAAAAAAAAAAAAAAAAAAAAAAAAAAAAAAAAAAAAAAAAAAAAAAAAAAAAAAAAAAAAAAAAAAAAAAAAAAAAAAAAAAAAAAAAAAAAAAAAAAAAAAAAAAAAAAAAAAAAAAAAAAAAAAAAAAAAAAAAAAAAAAAAAAAAAAAAAAAAAAAAAAAAAAAAAAAAAAAAAAAAAAAAAAAAAAAAAAAAAAAAAAAAAAAAAAAAAAAAAAAAAAAAAAAAAAAAAAAAAAAAAAAAAAAAAAAAAAAAAAAAAAAAAAAAAAAAAAAAAAAAAAAAAAAAAAAAAAAAAAAAAAAAAAAAAAAAAAAAAAAAAAAAAAAAAAAAAAAAAAAAAAAAAAAAAAAAAAAAAAAAAAAAAAAAAAAAAAAAAAAAAAAAAAAAAAAAAAAAAAAAAAAAAAAAAAAAAAAAAAAAAAAAAAAAAAAAAAAAAAAAAAAAAAAAAAAAAAAAAAAAAAAAAAAAAAAAAAAAAAAAAAAAAAAAAAAAAAAAAAAAAAAAAAAAAAAAAAAAAAAAAAAAAAAAAAAAAAAAAAAAAAAAAAAAAAAAAAAAAAAAAAAAAAAAAAAAAAAAAAAAAAAAAAAAAAAAAAAAAAAAAAAAAAAAAAAAAAAAAAAAAAAAAAAAAAAAAAAAAAAAAAAAAAAAAAAAAAAAAAAAAAAAAAAAAAAAAAAAAAAAAAAAAAAAAAAAAAAAAAAAAAAAAAAAAAAAAAAAAAAAAAAAAAAAAAAAAAAAAAAAAAAAAAAAAAAAAAAAAAAAAAAAAAAAAAAAAAAAAAAAAAAAAAAAAAAAAAAAAAAAAAAAAAAAAAAAAAAAAAAAAAAAAAAAAAAAAAAAAAAAAAAAAAAAAAAAAAAAAAAAAAAAAAAAAAAAAAAAAAAAAAAAAAAAAAAAAAAAAAAAAAAAAAAAAAAAAAAAAAAAAAAAAAAAAAAAAAAAAAAAAAAAAAAAAAAAAAAAAAAAAAAAAAAAAAAAAAAAAAAAAAAAAAAAAAAAAAAAAAAAAAAAAAAAAAAAAAAAAAAAAAAAAAAAAAAAAAAAAAAAAAAAAAAAAAAAAAAAAAAAAAAAAAAAAAAAAAAAAAAAAAAAAAAAAAAAAAAAAAAAAAAAAAAAAAAAAAAAAAAAAAAAAAAAAAAAAAAAAAAAAAAAAAAAAAAAAAAAAAAAAAAAAAAAAAAAAAAAAAAAAAAAAAAAAAAAAAAAAAAAAAAAAAAAAAAAAAAAAAAAAAAAAAAAAAAAAAAAAAAAAAAAAAAAAAAAAAAAAAAAAAAAAAAAAAAAAAAAAAAAAAAAAAAAAAAAAAAAAAAAAAAAAAAAAAAAAAAAAAAAAAAAAAAAAAAAAAAAAAAAAAAAAAAAAAAAAAAAAAAAAAAAAAAAAAAAAAAAAAAAAAAAAAAAAAAAAAAAAAAAAAAAAAAAAAAAAAAAAAAAAAAAAAAAAAAAAAAAAAAAAAAAAAAAAAAAAAAAAAAAAAAAAAAAAAAAAAAAAAAAAAAAAAAAAAAAAAAAAAAAAAAAAAAAAAAAAAAAAAAAAAAAAAAAAAAAAAAAAAAAAAAAAAAAAAAAAAAAAAAAAAAAAAAAAAAAAAAAAAAAAAAAAAAAAAAAAAAAAAAAAAAAAAAAAAAAAAAAAAAAAAAAAAAAAAAAAAAAAAAAAAAAAAAAAAAAAAAAAAAAAAAAAAAAAAAAAAAAAAAAAAAAAAAAAAAAAAAAAAAAAAAAAAAAAAAAAAAAAAAAAAAAAAAAAAAAAAAAAAAAAAAAAAAAAAAAAAAAAAAAAAAAAAAAAAAAAAAAAAAAAAAAAAAAAAAAAAAAAAAAAAAAAAAAAAAAAAAAAAAAAAAAAAAAAAAAAAAAAAAAAAAAAAAAAAAAAAAAAAAAAAAAAAAAAAAAAAAAAAAAAAAAAAAAAAAAAAAAAAAAAAAAAAAAAAAAAAAAAAAAAAAAAAAAAAAAAAAAAAAAAAAAAAAAAAAAAAAAAAAAAAAAAAAAAAAAAAAAAAAAAAAAAAAAAAAAAAAAAAAAAAAAAAAAAAAAAAAAAAAAAAAAAAAAAAAAAAAAAAAAAAAAAAAAAAAAAAAAAAAAAAAAAAAAAAAAAAAAAAAAAAAAAAAAAAAAAAAAAAAAAAAAAAAAAAAAAAAAAAAAAAAAAAAAAAAAAAAAAAAAAAAAAAAAAAAAAAAAAAAAAAAAAAAAAAAAAAAAAAAAAAAAAAAAAAAAAAAAAAAAAAAAAAAAAAAAAAAAAAAAAAAAAAAAAAAAAAAAAAAAAAAAAAAAAAAAAAAAAAAAAAAAAAAAAAAAAAAAAAAAAAAAAAAAAAAAAAAAAAAAAAAAAAAAAAAAAAAAAAAAAAAAAAAAAAAAAAAAAAAAAAAAAAAAAAAAAAAAAAAAAAAAAAAAAAAAAAAAAAAAAAAAAAAAAAAAAAAAAAAAAAAAAAAAAAAAAAAAAAAAAAAAAAAAAAAAAAAAAAAAAAAAAAAAAAAAAAAAAAAAAAAAAAAAAAAAAAAAAAAAAAAAAAAAAAAAAAAAAAAAAAAAAAAAAAAAAAAAAAAAAAAAAAAAAAAAAAAAAAAAAAAAAAAAAAAAAAAAAAAAAAAAAAAAAAAAAAAAAAAAAAAAAAAAAAAAAAAAAAAAAAAAAAAAAAAAAAAAAAAAAAAAAAAAAAAAAAAAAAAAAAAAAAAAAAAAAAAAAAAAAAAAAAAAAAAAAAAAAAAAAAAAAAAAAAAAAAyMDIxOjEyOjA3IDEzOjI0OjEyADIwMjE6MTI6MDcgMTM6MjQ6MTIAAACEvPi7AAD/4QsZaHR0cDovL25zLmFkb2JlLmNvbS94YXAvMS4wLwA8P3hwYWNrZXQgYmVnaW49J++7vycgaWQ9J1c1TTBNcENlaGlIenJlU3pOVGN6a2M5ZCc/Pg0KPHg6eG1wbWV0YSB4bWxuczp4PSJhZG9iZTpuczptZXRhLyI+PHJkZjpSREYgeG1sbnM6cmRmPSJodHRwOi8vd3d3LnczLm9yZy8xOTk5LzAyLzIyLXJkZi1zeW50YXgtbnMjIj48cmRmOkRlc2NyaXB0aW9uIHJkZjphYm91dD0idXVpZDpmYWY1YmRkNS1iYTNkLTExZGEtYWQzMS1kMzNkNzUxODJmMWIiIHhtbG5zOmRjPSJodHRwOi8vcHVybC5vcmcvZGMvZWxlbWVudHMvMS4xLyIvPjxyZGY6RGVzY3JpcHRpb24gcmRmOmFib3V0PSJ1dWlkOmZhZjViZGQ1LWJhM2QtMTFkYS1hZDMxLWQzM2Q3NTE4MmYxYiIgeG1sbnM6eG1wPSJodHRwOi8vbnMuYWRvYmUuY29tL3hhcC8xLjAvIj48eG1wOkNyZWF0ZURhdGU+MjAyMS0xMi0wN1QxMzoyNDoxMi4zMTg8L3htcDpDcmVhdGVEYXRlPjwvcmRmOkRlc2NyaXB0aW9uPjxyZGY6RGVzY3JpcHRpb24gcmRmOmFib3V0PSJ1dWlkOmZhZjViZGQ1LWJhM2QtMTFkYS1hZDMxLWQzM2Q3NTE4MmYxYiIgeG1sbnM6ZGM9Imh0dHA6Ly9wdXJsLm9yZy9kYy9lbGVtZW50cy8xLjEvIj48ZGM6Y3JlYXRvcj48cmRmOlNlcSB4bWxuczpyZGY9Imh0dHA6Ly93d3cudzMub3JnLzE5OTkvMDIvMjItcmRmLXN5bnRheC1ucyMiPjxyZGY6bGk+67KE66+4PC9yZGY6bGk+PC9yZGY6U2VxPg0KCQkJPC9kYzpjcmVhdG9yPjwvcmRmOkRlc2NyaXB0aW9uPjwvcmRmOlJERj48L3g6eG1wbWV0YT4NCiAgICAgICAgICAgICAgICAgICAgICAgICAgICAgICAgICAgICAgICAgICAgICAgICAgICAgICAgICAgICAgICAgICAgICAgICAgICAgICAgICAgICAgICAgICAgICAgICAgICAKICAgICAgICAgICAgICAgICAgICAgICAgICAgICAgICAgICAgICAgICAgICAgICAgICAgICAgICAgICAgICAgICAgICAgICAgICAgICAgICAgICAgICAgICAgICAgICAgICAgIAogICAgICAgICAgICAgICAgICAgICAgICAgICAgICAgICAgICAgICAgICAgICAgICAgICAgICAgICAgICAgICAgICAgICAgICAgICAgICAgICAgICAgICAgICAgICAgICAgICAgCiAgICAgICAgICAgICAgICAgICAgICAgICAgICAgICAgICAgICAgICAgICAgICAgICAgICAgICAgICAgICAgICAgICAgICAgICAgICAgICAgICAgICAgICAgICAgICAgICAgICAKICAgICAgICAgICAgICAgICAgICAgICAgICAgICAgICAgICAgICAgICAgICAgICAgICAgICAgICAgICAgICAgICAgICAgICAgICAgICAgICAgICAgICAgICAgICAgICAgICAgIAogICAgICAgICAgICAgICAgICAgICAgICAgICAgICAgICAgICAgICAgICAgICAgICAgICAgICAgICAgICAgICAgICAgICAgICAgICAgICAgICAgICAgICAgICAgICAgICAgICAgCiAgICAgICAgICAgICAgICAgICAgICAgICAgICAgICAgICAgICAgICAgICAgICAgICAgICAgICAgICAgICAgICAgICAgICAgICAgICAgICAgICAgICAgICAgICAgICAgICAgICAKICAgICAgICAgICAgICAgICAgICAgICAgICAgICAgICAgICAgICAgICAgICAgICAgICAgICAgICAgICAgICAgICAgICAgICAgICAgICAgICAgICAgICAgICAgICAgICAgICAgIAogICAgICAgICAgICAgICAgICAgICAgICAgICAgICAgICAgICAgICAgICAgICAgICAgICAgICAgICAgICAgICAgICAgICAgICAgICAgICAgICAgICAgICAgICAgICAgICAgICAgCiAgICAgICAgICAgICAgICAgICAgICAgICAgICAgICAgICAgICAgICAgICAgICAgICAgICAgICAgICAgICAgICAgICAgICAgICAgICAgICAgICAgICAgICAgICAgICAgICAgICAKICAgICAgICAgICAgICAgICAgICAgICAgICAgICAgICAgICAgICAgICAgICAgICAgICAgICAgICAgICAgICAgICAgICAgICAgICAgICAgICAgICAgICAgICAgICAgICAgICAgIAogICAgICAgICAgICAgICAgICAgICAgICAgICAgICAgICAgICAgICAgICAgICAgICAgICAgICAgICAgICAgICAgICAgICAgICAgICAgICAgICAgICAgICAgICAgICAgICAgICAgCiAgICAgICAgICAgICAgICAgICAgICAgICAgICAgICAgICAgICAgICAgICAgICAgICAgICAgICAgICAgICAgICAgICAgICAgICAgICAgICAgICAgICAgICAgICAgICAgICAgICAKICAgICAgICAgICAgICAgICAgICAgICAgICAgICAgICAgICAgICAgICAgICAgICAgICAgICAgICAgICAgICAgICAgICAgICAgICAgICAgICAgICAgICAgICAgICAgICAgICAgIAogICAgICAgICAgICAgICAgICAgICAgICAgICAgICAgICAgICAgICAgICAgICAgICAgICAgICAgICAgICAgICAgICAgICAgICAgICAgICAgICAgICAgICAgICAgICAgICAgICAgCiAgICAgICAgICAgICAgICAgICAgICAgICAgICAgICAgICAgICAgICAgICAgICAgICAgICAgICAgICAgICAgICAgICAgICAgICAgICAgICAgICAgICAgICAgICAgICAgICAgICAKICAgICAgICAgICAgICAgICAgICAgICAgICAgICAgICAgICAgICAgICAgICAgICAgICAgICAgICAgICAgICAgICAgICAgICAgICAgICAgICAgICAgICAgICAgICAgICAgICAgIAogICAgICAgICAgICAgICAgICAgICAgICAgICAgICAgICAgICAgICAgICAgICAgICAgICAgICAgICAgICAgICAgICAgICAgICAgICAgICAgICAgICAgICAgICAgICAgICAgICAgCiAgICAgICAgICAgICAgICAgICAgICAgICAgICAgICAgICAgICAgICAgICAgICAgICAgICAgICAgICAgICAgICAgICAgICAgICAgICAgICAgICAgICAgICAgICAgICAgICAgICAKICAgICAgICAgICAgICAgICAgICAgICAgICAgICAgICAgICAgICAgICAgICAgICAgICAgICAgICAgICAgICAgICAgICAgICAgICAgICAgICAgICAgICAgICAgICAgICAgICAgIAogICAgICAgICAgICAgICAgICAgICAgICAgICAgPD94cGFja2V0IGVuZD0ndyc/Pv/bAEMABwUFBgUEBwYFBggHBwgKEQsKCQkKFQ8QDBEYFRoZGBUYFxseJyEbHSUdFxgiLiIlKCkrLCsaIC8zLyoyJyorKv/bAEMBBwgICgkKFAsLFCocGBwqKioqKioqKioqKioqKioqKioqKioqKioqKioqKioqKioqKioqKioqKioqKioqKioqKv/AABEIAfYGRAMBIgACEQEDEQH/xAAfAAABBQEBAQEBAQAAAAAAAAAAAQIDBAUGBwgJCgv/xAC1EAACAQMDAgQDBQUEBAAAAX0BAgMABBEFEiExQQYTUWEHInEUMoGRoQgjQrHBFVLR8CQzYnKCCQoWFxgZGiUmJygpKjQ1Njc4OTpDREVGR0hJSlNUVVZXWFlaY2RlZmdoaWpzdHV2d3h5eoOEhYaHiImKkpOUlZaXmJmaoqOkpaanqKmqsrO0tba3uLm6wsPExcbHyMnK0tPU1dbX2Nna4eLj5OXm5+jp6vHy8/T19vf4+fr/xAAfAQADAQEBAQEBAQEBAAAAAAAAAQIDBAUGBwgJCgv/xAC1EQACAQIEBAMEBwUEBAABAncAAQIDEQQFITEGEkFRB2FxEyIygQgUQpGhscEJIzNS8BVictEKFiQ04SXxFxgZGiYnKCkqNTY3ODk6Q0RFRkdISUpTVFVWV1hZWmNkZWZnaGlqc3R1dnd4eXqCg4SFhoeIiYqSk5SVlpeYmZqio6Slpqeoqaqys7S1tre4ubrCw8TFxsfIycrS09TV1tfY2dri4+Tl5ufo6ery8/T19vf4+fr/2gAMAwEAAhEDEQA/APoW0/48oP8Armv8qlqK0/48oP8Armv8qloAKKKKACiiigAooooAKKKKACiiigAooooAKKKKACiiigAooooAKKKKACiiigAooooAKKKKACiiigAooooAKKKKACiiigAooooAKKKKACiiigAooooAKKKKACiiigAooooAKKKKACiiigAooooAKKKKACiiigAooooAKKKKACiiigAooooAKKKKACiiigAooooAKKKKACiiigAooooAKKKKACiiigAooooAKKKKACiiigAooooAKKKKACiiigAooooAKKKKACiiigAooooAKKKKACiiigAooooAKKKKACiiigAooooAKKKKACiiigAooooAKKKKACiiigAooooAKKKKACiiigAooooAKKKKACiiigAooooAKKKKACiiigAooooAKKKKACiiigAooooAKKKKACiiigAooooAKKKKACiiigAooooAKKKKACiiigAooooAKKKKACiiigAooooAKKKKACiiigAooooAKKKKACiis+3txerJNPLPu86RAEndAArlRwpHYUAaFFVP7Mg/56XX/gXL/wDFUf2ZB/z0uv8AwLl/+KoAt0VU/syD/npdf+Bcv/xVH9mQf89Lr/wLl/8AiqALdFVP7Mg/56XX/gXL/wDFUf2ZB/z0uv8AwLl/+KoAt0VU/syD/npdf+Bcv/xVH9mQf89Lr/wLl/8AiqALdFVP7Mg/56XX/gXL/wDFUf2ZB/z0uv8AwLl/+KoAt0VU/syD/npdf+Bcv/xVH9mQf89Lr/wLl/8AiqALdFVtPd3s/wB4xcpJJHuPUhXKjPvgVZoAKKKKAIrT/jyg/wCua/yqWorT/jyg/wCua/yqUjIINABRWX5eo2pNta4lif8A1c8jZMI7gjq3t+tX7aAW1usQd3x1Zzkse5oAzYdeEni250N7fYYrZJ0m358zJwy7ccY4+uT6VHoPiWPWxqkhgFtBYXTQLK8oIlRVB8z/AGQc/lz3rL1XTdTl17UrzSoCbqMW32dpDsRwVkR/m74D7seoFULrw9dwaHrlhp0NwsUV3aNGsaLvnhiig3BN4KsfkIwQQSCDQuv9dV+QLX+v63Ozs9W07UbN7vT7+1urZCQ00Eyui4GTlgcDArKXxVBqFxfwaHPY3K29iLiO9NyGg3kuNrFc4A2gk5zg9K5+805r3SdQvrKfWtUlL2puotQsfs7TQxS72RE8qPeSpYdDngVauRJqmqa9fWdheLDPoYt42mtHiaWQNLlQrANn5h1HOeM0paL7/wAhx1/D80dJLrmn6da2ja1qen2ktwgK77lUWRsDOwsRuGT+orSrgtWGoSQjTDbXttDNpMcYkstPEst0+1wYXkdWSNRno4GS5wwwc9Z4eWZPDGlrdK6TraRCRZBhg2wZBB6HNW1q/wCu/wDkQnt6f5f5l92xwKzm1rT11xNHN2h1CSIzC3GSwQEAscdOvGevOOhq+/3q5rU79I/Gmlqbe+cRRyo8kdjM8al9m3LqhXscnPHfFT1KOmVucGn1GvLCpKACiiigAooooAKKKKACiiigAooooAKKKKACiiigAooooAKKKKACiiigAooooAKKKKACiiigAooooAKKKKACiiigAooooAKKKKACiiigAooooAKKKKACiiigAooooAKKKKACiiigAooooAKKKKACiiigAooooAKKKKACiiigAooooAKKKKACiiigAooooAKKKKACiiigAooooAKKKKACiiigAooooAKKKKACiiigAooooAKKKKACiiigAooooAKKKKACiiigAooooAKKKKACiiigAooooAKKKKACiiigAooooAKKKKACiiigAooooAKKKKACiiigAooooAKKKKACiiigAooooAKKKKACiiigAooooAKKKKACiiigAooooAKKKKACiiigAooooAKKKKACiiigAooooAKKKKACiiigAooooAKKKKACiiigAooooAKKKKACiiigAqppn/Ho/wD18Tf+jWq3VTTP+PR/+vib/wBGtQBbqktzKdfkti37pbVZAuP4izDOfoBU13ZRXsYScygKcjypnjP5qQaw10Oz/wCElkj3Xe0WiN/x+zZzvbvvz+FAHR1S1TVYNJt45bkSMruEAjGSOCST7AAk+wqe0tIrKIxwGUqTn97M8h/NiTWZqOl3GraoVkmltbSKAorxCNjKz8MMMGwAoAzgH5jQBe1DVLTTYd13cwROykxJLKEMhHYZ69unrUD65aQaVb3l3NDbvcQiWOKWYKXO0HaM9eoHSsaOy1WLzGuNON3JPYCz3eZH+7Klhlsn7rAhuMnjkU5dO1C1UD+z/tZn0uO04kQeQ6ghg2T907hyufu9DxSezt/W/wDwBrdX/rb/AIJsyaukOgxanLDIVkjjfyoyC2XwAASQOre1JDrduTcLfRvpz26q8gu2QAKxIDblYrjII654qpd6bcz+DoNPEZ89YoFdFcKRtK7vmz2weQfpS3mlmwtt+kW0k08kqmWVpBLOFAIyjTNjIzwCcDJ4PQ1KybsSttTRbVdPS1S6e+tlt3BKSmZQjY64OcGiTU7CGzS7mvbaO2kxsmaVQjZ6YbODWFpej30U2nvdwk+TeXEzmRkLKHDbSduBnJ7DrUP9j6lb/ZZ4luF8mW6HlWph8xRJKWVh5gK4wMEZB5+opDOhGoBtXSyVAyvbmcShvRgMY/HOauVh6dp01nqViyQzfZ47BoC0roWRtykBtpx0H8IxxW5R0/ruHX+uxU0z/j0f/r4m/wDRrVbqppn/AB6P/wBfE3/o1qt0AFFFFAEVp/x5Qf8AXNf5VLUVp/x5Qf8AXNf5VLQAUUUUAFFFFABRRRQAUUUUABGetN8v3p1FACBQOlLRRQAUUUUAFFFFABRRRQAUUUUAFFFFABRRRQAUUUUAFFFFABRRRQAUUUUAFFFFABRRRQAUUUUAFFFFABRRRQAUUUUAFFFFABRRRQAUUUUAFFFFABRRRQAUUUUAFFFFABRRRQAUUUUAFFFFABRRRQAUUUUAFFFFABRRRQAUUUUAFFFFABRRRQAUUUUAFFFFABRRRQAUUUUAFFFFABRRRQAUUUUAFFFFABRRRQAUUUUAFFFFABRRRQAUUUUAFFFFABRRRQAUUUUAFFFFABRRRQAUUUUAFFFFABRRRQAUUUUAFFFFABRRRQAUUUUAFFFFABRRRQAUUUUAFFFFABRRRQAUUUUAFFFFABRRRQAUUUUAFFFFABRRRQAUUUUAFFFFABRRRQAUUUUAFFFFABRRRQAUUUUAFFFFABRRRQAUUUUAFFFFABRRRQAUUUUAFFFFABRRRQAUUUUAFVNMI+zSL3W4myPTMjH+RFW6rzWFncSb57SCV/7zxhj+ZoAsUYG7OOemaqf2Tp3/AD4Wv/flf8KP7J07/nwtf+/K/wCFAFuiqn9k6d/z4Wv/AH5X/Cj+ydO/58LX/vyv+FAFuiqn9k6d/wA+Fr/35X/Cj+ydO/58LX/vyv8AhQBboqp/ZOnf8+Fr/wB+V/wo/snTv+fC1/78r/hQBboqp/ZOnf8APha/9+V/wo/snTv+fC1/78r/AIUAW6Kqf2Tp3/Pha/8Aflf8KP7J07/nwtf+/K/4UAGmHNmxHIaeYg+oMjEGrdIqhVCqAABgADpS0AFFFFAEVp/x5Qf9c1/lUtRWn/HlB/1zX+VS0AFFFFAEdvbwzRs80SSMXcZZQejED+VS/Y7X/n2h/wC/YpLP/j3P/XR//QzU9AEP2O1/59of+/Yo+x2v/PtD/wB+xU1FAEP2O1/59of+/Yo+x2v/AD7Q/wDfsVNRQBD9jtf+faH/AL9ij7Ha/wDPtD/37FTUUAQ/Y7X/AJ9of+/Yo+x2v/PtD/37FTUUAQ/Y7X/n2h/79ij7Ha/8+0P/AH7FTUUAQ/Y7X/n2h/79ij7Ha/8APtD/AN+xU1FAEP2O1/59of8Av2KPsdr/AM+0P/fsVNRQBD9jtf8An2h/79ij7Ha/8+0P/fsVNRQBD9jtf+faH/v2KPsdr/z7Q/8AfsVNRQBD9jtf+faH/v2KPsdr/wA+0P8A37FTUUAQ/Y7X/n2h/wC/Yo+x2v8Az7Q/9+xU1FAEP2O1/wCfaH/v2KPsdr/z7Q/9+xU1FAEP2O1/59of+/Yo+x2v/PtD/wB+xU1FAEP2O1/59of+/Yo+x2v/AD7Q/wDfsVNRQBD9jtf+faH/AL9ij7Ha/wDPtD/37FTUUAQ/Y7X/AJ9of+/Yo+x2v/PtD/37FTUUAQ/Y7X/n2h/79ij7Ha/8+0P/AH7FTUUAQ/Y7X/n2h/79ij7Ha/8APtD/AN+xU1FAEP2O1/59of8Av2KPsdr/AM+0P/fsVNRQBD9jtf8An2h/79ij7Ha/8+0P/fsVNRQBD9jtf+faH/v2KPsdr/z7Q/8AfsVNRQBD9jtf+faH/v2KPsdr/wA+0P8A37FTUUAQ/Y7X/n2h/wC/Yo+x2v8Az7Q/9+xU1FAEP2O1/wCfaH/v2KPsdr/z7Q/9+xU1FAEP2O1/59of+/Yo+x2v/PtD/wB+xU1FAEP2O1/59of+/Yo+x2v/AD7Q/wDfsVNRQBD9jtf+faH/AL9ij7Ha/wDPtD/37FTUUAQ/Y7X/AJ9of+/Yo+x2v/PtD/37FTUUAQ/Y7X/n2h/79ij7Ha/8+0P/AH7FTUUAQ/Y7X/n2h/79ij7Ha/8APtD/AN+xU1FAEP2O1/59of8Av2KPsdr/AM+0P/fsVNRQBD9jtf8An2h/79ij7Ha/8+0P/fsVNRQBD9jtf+faH/v2KPsdr/z7Q/8AfsVNRQBD9jtf+faH/v2KPsdr/wA+0P8A37FTUUAQ/Y7X/n2h/wC/Yo+x2v8Az7Q/9+xU1FAEP2O1/wCfaH/v2KPsdr/z7Q/9+xU1FAEP2O1/59of+/Yo+x2v/PtD/wB+xU1FAEP2O1/59of+/Yo+x2v/AD7Q/wDfsVNRQBD9jtf+faH/AL9ij7Ha/wDPtD/37FTUUAQ/Y7X/AJ9of+/Yo+x2v/PtD/37FTUUAQ/Y7X/n2h/79ij7Ha/8+0P/AH7FTUUAQ/Y7X/n2h/79ij7Ha/8APtD/AN+xU1FAEP2O1/59of8Av2KPsdr/AM+0P/fsVNRQBD9jtf8An2h/79ij7Ha/8+0P/fsVNRQBD9jtf+faH/v2KPsdr/z7Q/8AfsVNRQBD9jtf+faH/v2KPsdr/wA+0P8A37FTUUAQ/Y7X/n2h/wC/Yo+x2v8Az7Q/9+xU1RXUksVrI9vD58qjKx7tu4/WgBPsdr/z7Q/9+xR9jtf+faH/AL9ioZrm9S0gkisfMmcqJIvNA8sHrz3xT5Zrlb6GKO13wMCXm3gbD6Y70AP+x2v/AD7Q/wDfsUfY7X/n2h/79imRTXL300UlrsgQApNvB3n0x2qzQBD9jtf+faH/AL9ij7Ha/wDPtD/37FTUUAQ/Y7X/AJ9of+/Yo+x2v/PtD/37FTUUAQ/Y7X/n2h/79ij7Ha/8+0P/AH7FTUUAQ/Y7X/n2h/79ij7Ha/8APtD/AN+xU1FAEP2O1/59of8Av2KPsdr/AM+0P/fsVNRQBD9jtf8An2h/79ij7Ha/8+0P/fsVNRQBD9jtf+faH/v2KPsdr/z7Q/8AfsVNRQBD9jtf+faH/v2KPsdr/wA+0P8A37FTUUAQ/Y7X/n2h/wC/Yo+x2v8Az7Q/9+xU1FAEP2O1/wCfaH/v2KPsdr/z7Q/9+xU1FAEP2O1/59of+/Yo+x2v/PtD/wB+xU1FAEP2O1/59of+/Yo+x2v/AD7Q/wDfsVNRQBD9jtf+faH/AL9ij7Ha/wDPtD/37FTUUAQ/Y7X/AJ9of+/Yo+x2v/PtD/37FTUUAQ/Y7X/n2h/79ij7Ha/8+0P/AH7FTUUAQ/Y7X/n2h/79ij7Ha/8APtD/AN+xU1FAEP2O1/59of8Av2KPsdr/AM+0P/fsVNRQBD9jtf8An2h/79ij7Ha/8+0P/fsVNRQBD9jtf+faH/v2KPsdr/z7Q/8AfsVNRQBD9jtf+faH/v2KPsdr/wA+0P8A37FTUUAQ/Y7X/n2h/wC/Yo+x2v8Az7Q/9+xU1FAEP2O1/wCfaH/v2KPsdr/z7Q/9+xU1FAEP2O1/59of+/Yo+x2v/PtD/wB+xU1FAEP2O1/59of+/Yo+x2v/AD7Q/wDfsVNRQBD9jtf+faH/AL9ij7Ha/wDPtD/37FTUUAQ/Y7X/AJ9of+/Yo+x2v/PtD/37FTUUAQ/Y7X/n2h/79ij7Ha/8+0P/AH7FTUUAQ/Y7X/n2h/79ij7Ha/8APtD/AN+xU1FAEP2O1/59of8Av2KPsdr/AM+0P/fsVNRQBD9jtf8An2h/79ij7Ha/8+0P/fsVNRQBD9jtf+faH/v2KPsdr/z7Q/8AfsVNRQBD9jtf+faH/v2KPsdr/wA+0P8A37FTUUAQ/Y7X/n2h/wC/Yo+x2v8Az7Q/9+xU1FAEP2O1/wCfaH/v2KPsdr/z7Q/9+xU1FAEP2O1/59of+/Yo+x2v/PtD/wB+xU1FAEP2O1/59of+/Yo+x2v/AD7Q/wDfsVNRQBD9jtf+faH/AL9ij7Ha/wDPtD/37FTUUAQ/Y7X/AJ9of+/Yo+x2v/PtD/37FTUUAQ/Y7X/n2h/79ij7Ha/8+0P/AH7FTUUAQ/Y7X/n2h/79ij7Ha/8APtD/AN+xU1FAEP2O1/59of8Av2KPsdr/AM+0P/fsVNRQBD9jtf8An2h/79ij7Ha/8+0P/fsVNRQBD9jtf+faH/v2KPsdr/z7Q/8AfsVNRQBD9jtf+faH/v2KPsdr/wA+0P8A37FMu52j2wwYM8vCA9FHdj7D/wCtVTSknE0paQyRL8m/eSJWzywB6Y6HHH5UAXvsdr/z7Q/9+xR9jtf+faH/AL9ikvbc3VlLANuXXHzdKdBa29spFtBHCG6iNAufyoAT7Ha/8+0P/fsUfY7X/n2h/wC/YqGPToYL5J7aGGEbGVtiBSxJGOn0NXKAIfsdr/z7Q/8AfsUfYrX/AJ9of+/YqKS5ddVhtxJAEeNmKMT5hx6dsVboAqW/+qI7K7qPoGIFSVHb/cf/AK6v/wChmpKACiiigCK0/wCPKD/rmv8AKpaitP8Ajyg/65r/ACqWgAooooALP/j3P/XR/wD0M1PUFn/x7n/ro/8A6GanoAKKKKACiiigAooooAKKKKACiiigAooooAKKKKACiiigAooooAKKKKACiiigAooooAKKKKACiiigAooooAKKKKACiiigAooooAKKKKACiiigAooooAKKKKACiiigAooooAKKKKACiiigAooooAKKKKACiiigAooooAKKKKACiiigAooooAKKKKACiiigAooooAKKKKACiiigAooooAKKKKACiiigAooooAKKKKACiiigAooooAKKKKACobqKSe1kjgmMEjLhZAM7fwqasibxCi60+m2dhd30kOz7TJbiPZbbvu7izqTxzhQxA+ooAtTWd3JZwRR37RyxspeUICZMdRjtmpJbed9QhnS6ZIUUh4QuQ5PfNctofi+Y3Vxb6rDdSo2rzWUV2I41ijw3yIeQx6YyFI9TWuviaNdcg02602+tPtTyJbXMyx+XMyDJAw5YcAkblGQKANKK3uE1CaaS6aSGQAJCVACH1zVmuN1Hx5J/YC6noujXlxE11HAJJRGqkmby2ABkDZ7A/dyRzjOOugkaW3SSSF4GZQTFIVLIfQ7SRn6EigCSiiigAooooAKKKKACiiigAooooAKKKKACiiigAooooAKKKKACiiigAooooAKKKKACiiigAooooAKKKKACiiigAooooAKKKKACiiigAooooAKKKKACiiigAooooAKKKKACiiigAooooAKKKKACiiigAooooAKKKKACiiigAooooAKKKKACiiigAooooAKKKKACiiigAooooAKKKKACiiigAooooAKKKKACiiigDKe0vpNSuGVljhlwpcn5goA4THTnPX1zWnHGsUaxxqFRRgAdhTqKAIL0TGzlFtnzcfLggHP40+KV5AS8EkWOzlTn8iakooApxzTzXy/uJooVRg2/bgnIx0J96uUUUAQPBI17HMJsIqFTHsHzE989RU9FFAFS3+4//XV//QzUlR2/3H/66v8A+hmpKACiiigCK0/48oP+ua/yqWorT/jyg/65r/KpaACiiigAs/8Aj3P/AF0f/wBDNT1BZ/8AHuf+uj/+hmp6ACiiigAooooAKKKKACiiigAooooAKKKKACiiigAooooAKKKKACiiigAooooAKKKKACiiigAooooAKKKKACiiigAooooAKKKKACiiigAooooAKKKKACiiigAooooAKKKKACiiigAooooAKKKKACiiigAooooAKKKKACiiigAooooAKKKKACiiigAooooAKKKKACiiigAooooAKKKKACiiigAooooAKKKKACiiigAooooAKKKKACiiigArBbQb611+61HR9Rgt475o2u4Li0M25lG3KEOu0lcA5DdAa3qKAOaj8IeXbeV9uz/xODqefJ9W3eX979f0qlZ+ATb+JYNYuNQiuJre6lnWU2n7+RXDDy5JS5LBdwC4AAAxj07KigDmF8HFPBq6Gl/iSOf7RHc+TwHE3mrlN3IzgEZGfUV0dus620a3ckcs4UeY8UZRWPchSSQPbJ+tSUUAFFFFABRRRQAUUUUAFFFFABRRRQAUUUUAFFFFABRRRQAUUUUAFFFFABRRRQAUUUUAFFFFABRRRQAUUUUAFFFFABRRRQAUUUUAFFFFABRRRQAUUUUAFFFFABRRRQAUUUUAFFFFABRRRQAUUUUAFFFFABRRRQAUUUUAFFFFABRRRQAUUUUAFFFFABRRRQAUUUUAFFFFABRRRQAUUUUAFFFFABRRRQAUUUUAFFFFABRRRQAUUUUAFFFFABRRRQBUt/uP/wBdX/8AQzUlR2/3H/66v/6GakoAKKKKAIrT/jyg/wCua/yqWorT/jyg/wCua/yqWgAooooALP8A49z/ANdH/wDQzU9QWf8Ax7n/AK6P/wChmp6ACiiigAooooAKKKKACiiigAooooAKjlnWHG4E59Kkqpff8s/x/pTWrE9h/wBtj/ut+Qo+2x/3W/IVQorTlRPMy/8AbY/7rfkKPtsf91vyFUKKOVBzMv8A22P+635Cj7bH/db8hVCijlQczL/22P8Aut+Qqtba3bXV3d28aSh7SRY3LAYJKK4xz6MKhqGG0hgnuJok2yXDh5TkncQoUH24UDijlQczNX7bH/db8hR9tj/ut+QqhRRyoOZl/wC2x/3W/IUfbY/7rfkKoUUcqDmZf+2x/wB1vyFH22P+635CqFFHKg5mX/tsf91vyFH22P8Aut+QqhRRyoOZl/7bH/db8hR9tj/ut+QqhRRyoOZl/wC2x/3W/IUfbY/7rfkKoUUcqDmZf+2x/wB1vyFH22P+635CqFFHKg5mX/tsf91vyFH22P8Aut+QqhRRyoOZl/7bH/db8hR9tj/ut+QqhRRyoOZl/wC2x/3W/IUfbY/7rfkKoUUcqDmZf+2x/wB1vyFH22P+635CqFFHKg5mX/tsf91vyFH22P8Aut+QqhRRyoOZl/7bH/db8hVZdbtm1SSwCS+bHCsxOBt2szKO/XKmoahFpCt814E/fvGImfJ5UEkDHTqxo5UHMzV+2x/3W/IUfbY/7rfkKoUUcqDmZf8Atsf91vyFH22P+635CqFFHKg5mX/tsf8Adb8hR9tj/ut+QqhRRyoOZl/7bH/db8hR9tj/ALrfkKoUUcqDmZf+2x/3W/IUfbY/7rfkKoUUcqDmZf8Atsf91vyFH22P+635CqFFHKg5mX/tsf8Adb8hR9tj/ut+QqhRRyoOZl/7bH/db8hR9tj/ALrfkKoUUcqDmZf+2x/3W/IUfbY/7rfkKoUUcqDmZf8Atsf91vyFH22P+635CqFFHKg5mX/tsf8Adb8hR9tj/ut+QqhRRyoOZl/7bH/db8hR9tj/ALrfkKoUUcqDmZf+2x/3W/IVWl1u2h1G2smSUyXCO6EAYATbnPP+0KhqGS0hlu4bp0zNCrLG2T8obGeOn8Io5UHMzV+2x/3W/IUfbY/7rfkKoUUcqDmZf+2x/wB1vyFH22P+635CqFFHKg5mX/tsf91vyFH22P8Aut+QqhRRyoOZl/7bH/db8hR9tj/ut+QqhRRyoOZl/wC2x/3W/IUfbY/7rfkKoUUcqDmZf+2x/wB1vyFH22P+635CqFFHKg5mX/tsf91vyFH22P8Aut+QqhRRyoOZl/7bH/db8hR9tj/ut+QqhRRyoOZl/wC2x/3W/IUfbY/7rfkKoUUcqDmZf+2x/wB1vyFH22P+635CqFFHKg5mX/tsf91vyFH22P8Aut+QqhRRyoOZl/7bH/db8hR9tj/ut+QqhRRyoOZl/wC2x/3W/IVWu9btrJ7ZZUlJuZhCm0DhiCeeenymoahuLSG6aFp03GCQSx8kbWAIzx7E0cqDmZq/bY/7rfkKPtsf91vyFUKKOVBzMv8A22P+635Cj7bH/db8hVCijlQczL/22P8Aut+Qo+2x/wB1vyFUKKOVBzMv/bY/7rfkKPtsf91vyFUKKOVBzMv/AG2P+635Cj7bH/db8hVCijlQczL/ANtj/ut+Qo+2x/3W/IVQoo5UHMy/9tj/ALrfkKPtsf8Adb8hVCijlQczL/22P+635Cj7bH/db8hVCijlQczL/wBtj/ut+Qo+2x/3W/IVQoo5UHMy/wDbY/7rfkKPtsf91vyFUKKOVBzMv/bY/wC635Cj7bH/AHW/IVQoo5UHMy/9tj/ut+Qo+2x/3W/IVQoo5UHMy/8AbY/7rfkKrahrdtptk1zOkrIrKpCAE/MwUdT6moahurSG9t2guk3xMQSuSOQQR09wKOVBzM1ftsf91vyFH22P+635CqFFHKg5mX/tsf8Adb8hR9tj/ut+QqhRRyoOZl/7bH/db8hR9tj/ALrfkKoUUcqDmZf+2x/3W/IUfbY/7rfkKoUUcqDmZf8Atsf91vyFH22P+635CqFFHKg5mX/tsf8Adb8hR9tj/ut+QqhRRyoOZl/7bH/db8hR9tj/ALrfkKoUUcqDmZf+2x/3W/IUfbY/7rfkKoUUcqDmZf8Atsf91vyFH22P+635CqFFHKg5mX/tsf8Adb8hR9tj/ut+QqhRRyoOZl/7bH/db8hQL2MnhW/IVQpV+8PrRyoLs0PtK/3G/T/Gj7Sv9xv0/wAar1Qv9Sa0mWGOLe7rkHPTJwOKmyHc1/tK/wBxv0/xqOe/S3t5JmikYRoXKrjJwM4GTXPia9t28xrhJvL5kiD5IHfNaVtOuoWsgePCkmNlDZBGPUfWiyC5fivVlhSQRyAOoYA4yM/jT/tK/wBxv0/xqsihEVFGFUYA9q5TxbqUo1GHSw8sdu1tLcTGFtjuFRmChsHHKc8d6LIDtPtK/wBxv0/xo+0r/cb9P8a8k0rVk0yI3+mi7iEdzHFLFNOJVkVw5PARcH5OvvXqdFkBY+0r/cb9P8aPtK/3G/T/ABqlLcwwOiyyKhfpk4qjbTxLqVyz3gKfLt3OMNkc/l7UWQXNv7Sv9xv0/wAaPtK/3G/T/GqkMyXEQkibcpp9FkFyx9pX+436f40faV/uN+n+NYWtSzI1usDyKWLDCEjPT0qnKmoRWscvm3JLBiy/N8mPWiyC51P2lf7jfp/jR9pX+436f41maW7SabE0jFmOcljknk1V1qWZGt1geRSxYYQkZ6elFkFzd+0r/cb9P8aPtK/3G/T/ABrkWbUlUsxugAMkndxW3pbtJpsTSMWY5yWOSeTRZBc0/tK/3G/T/Gj7Sv8Acb9P8azbqBtzTxRpLNhVQOuduGPOfx/SoZLyWWARwIsk+D5kbIcD1B5/xzRZBc2PtK/3G/T/ABo+0r/cb9P8apwwLB5nlgKrtuCqMAcAf0pLi5S2j3PyT91R1aiyC5d+0r/cb9P8aPtK/wBxv0/xrnH1edt4iZd3YAdPoe9bMTiSJXVgwI6iiyC5a+0r/cb9P8aPtK/3G/T/ABqvUTrOZsoyiPZjBHO71+lFkFy79pX+436f40faV/uN+n+NYh/tBb+ASSx7T1CsMMO/B56Vp0WQXLH2lf7jfp/jR9pX+436f41g6/4htdAtQ8w82Z/9XCGwW9/Ye9cz/wALM/6hP/kz/wDYUWQane2epx3lok6QyoHHCvtyOcdiRU/2lf7jfp/jXPeFtWj1jSGlhtfsqRSmIR+Zv7A5zgf3qtanJeIi/ZFJGeSoy35UWQGv9pX+436f40faV/uN+n+Nct9o1b0n/wC/f/1q1dMe4e1Y3e8PvON64OMCiyC5qfaV/uN+n+NH2lf7jfp/jVevIfirGsvjS1SQEr/Z2cbwnIaQ9Tx2/GrjBSdiZS5Vc9m+0r/cb9P8aBcqT91v0/xr5yj0CVtRtrL7JIZ7gwbI/tMYLCRN3p36+3evS/hCCPCl0D2v3HX/AGI6qVJJXuKNRt2sekUUUVzmoUUUUAFFFFABRRRQBUt/uP8A9dX/APQzUlR2/wBx/wDrq/8A6GakoAKKKKAIrT/jyg/65r/KpaitP+PKD/rmv8qloAKKKKACz/49z/10f/0M1PUFn/x7n/ro/wD6GanoAKKKKACiiigAooooAKKKKACiiigDlPGHiS60mWG3s4ryIBo5JbqPT5Z0ZTIAYwVUgMRnJPQYxknjT1zUWs1tzHYXd2JAx/cIDt6ddxGOv6VqyxRzx7Jo1kQkEq65GQcjj6iq99/yz/H+lWmtCWUIZDLBHIY3jLqGKOMMuR0PvT6KK0ICiiigAooooAKKKKACiiigAooooAKKKKACiiigAooooAKKKKACiiigAooooAKKKKACiiigAooooAKKKKACiiigAooooAKKKKACiiigAooooAKKKKACiiigAooooAKKKKACiiigAooooAKKKKACiiigAooooAKKKKACiiigAooooAKKKKACiiigAooooAKKKKACiiigAooooAKKKKACiiigAooooAKKKKACiiigAooooAKKKKACiiigAooooAKKKKACiiigAooooAKKKKACiiigAooooAKKKKACiiigAooooAKKKKACiiigAooooAKKKKACiiigAooooAKKKKACiiigAooooAKVfvD60lFAyzWRqttcvfRT28ZfaowR2IJNX9zep/Ojc3qfzqbDuZbwSASvBZTLLKCDuYELnrir2kQSW9myzLtYuSAfTA/wqbc3qfzo3N6n86LBcsVka5of9qeXcW0qwXkKsscjIHUqwwyspyCCCfzq/ub1P50bm9T+dFgucXceE9cSxZ/OsJGhkWZbeC2RBKVzjJCrngnj3rrtG1FtV0uK6kt5Ld2yGRxjkdce1Tbm9T+dG5vU/nRYLj5baGd0aWNXKdMjNUbaCJtSuVezAT5du5BhcDn8/are5vU/nRub1P50WC5LDClvEI4l2qKfVfc3qfzo3N6n86dguUtaimdrdoEkYqWOUBOOnpVOV9QltY4vKuQVDBm+b58+tbO5vU/nRub1P50rBcZpaNHpsSyKVYZyGGCOTVXWopna3aBJGKljlATjp6Vd3N6n86Nzep/OiwXMFhqTKVYXRBGCDu5rb0tGj02JZFKsM5DDBHJp+5vU/nRub1P50WC426nbc0EUiRTYVkLtjdljx+n61DJZyxQCSB1jnwfMkZzg+pPH+GKsbm9T+dG5vU/nTsFySGdZ/M8shlRtoZTkHgH+tQalbtc2bLEoMnGO3Geeafub1P50bm9T+dKwXMqTSJfs0PlR/vufM+f8q240CRhQAPUAVDub1P50bm9T+dFguWKKr7m9T+dZ194j0rTW23mowo+dojD7nJ9AoyT+VUouTsiZTjFXZqSITcQsI1YLuyx6rx2qWuZHiW7u8f2Rol/cAjIkuALaPH1bk/gP60fZvFF6v+k6naachHK2kJlf/vp+P/He/wCNX7Jr4nYj2yfwpsv+IfD9prtntuGEMsYyk4GSnrn1FcZL4MsYn2Lromk/55w2pkb8g1dTD4atVk33l1f37/8AT1dOwH/ARhf0rXiRYU2QqI1/uoMCpcYLzGpTfkZ/hXRzoujtCZHfzZTL+8j2MvAGCMn+7nr3q3qcd46L9kYgZ5CnDfnU+5vU/nRub1P51Ni7mN9n1b1n/wC/n/161dMS4S1YXe8vvON7ZOMCpNzep/Ojc3qfzpWHcsV5Z8Qru0sfiDaz6hCZoP7LdNmwNlm81V4PHBINel7m9T+dG5vU/nVxfK7iep49beLtIi1C0upLaYvBLZNv8pdwWKIo4Bz3JGPWul+Ft81v4WvClnczj7a7DylU5+ROOSOa7zc3qfzpyMfMXk9R3qpSTVkSlZmpRRRXKbBRRRQAUUUUAFFFFAFS3+4//XV//QzUlR2/3H/66v8A+hmpKACiiigCK0/48oP+ua/yqWorT/jyg/65r/KpaACiiigAs/8Aj3P/AF0f/wBDNT1BZ/8AHuf+uj/+hmp6ACiiigAooooAKKKKACiiigAooooAKqX3/LP8f6Vbqpff8s/x/pVR3E9inRRRWpmFFFFABRRRQAUUUUAFFFFABRRRQAUUUUAFFFFABRRRQAUUUUAFFFFABRRRQAUUUUAFFFFABRRRQAUUUUAFFFFABRRRQAUUUUAFFFFABRRRQAUUUUAFFFFABRRRQAUUUUAFFFFABRRRQAUUUUAFFFFABRRRQAUUUUAFFFFABRRRQAUUUUAFFFFABRRRQAUUUUAFFFFABRRRQAUUUUAFFFFABRRRQAUUUUAFFFFABRRRQAUUUUAFFFFABRRRQAUUUUAFFFFABRRRQAUUUUAFFFFABRRRQAUUUUAFFFFABRRRQAUUUUAFFFFABRRRQAUUUUAFFFFABRRRQAUUUUAFFFFABRRRQAUUUUAFFFFABRRRQAUUUUAFFFFABRRRQAUUUUAFFFFABRRRQAUUUyaeK2iMlxKkUY6s7BQPxNAD6Kw38X6U0hjsHm1KXOPLsYjL/wCPD5R9Sf0pPt/iK9P+haTBYxnkSX825sdvkjz+RYd/x09nLrp6mftYdNfTU3arXupWOmxGTULuG2XGcyyBc/TPWso6BqF4oGra/duu3DR2ai3U/iMt+v8APFWrTw1o9jL5tvp8Pm8fvZAZH4/2myaLQW7v6f1+guao9lb1/wCB/mVj4rguONHsL7UyeA8MBSPP+++B6cjPBzSb/FF9kLFYaTHnq7G4k/IbV/U/1reoo54r4V+v/A/AOST+KX3af8H8TCPhcXWDrGqX+oesbS+VGf8AgEYX265/U1o2OkadpiBdPsoLcDvHGAfz6mrlFJ1JNWbKVOEXdIKKKKgsKKKKACiiigAooooAKKKKACnJ/rF+optOT/WL9RQM1aKKKwNAooooAKKKKACiiigCpb/cf/rq/wD6GakqO3+4/wD11f8A9DNSUAFFFFAEVp/x5Qf9c1/lUtRWn/HlB/1zX+VS0AFFFFABZ/8AHuf+uj/+hmp6gs/+Pc/9dH/9DNT0AFFFFABRRRQAUUUUAFFFFABRRRQAVUvv+Wf4/wBKt1Uvv+Wf4/0qo7iexTooorUzCiiigAooooAKKKKACiiigAooooAKKKKACiiigAooooAKKKKACiiigAooooAKKKKACiiigAooooAKKKKACiiigAooooAKKKKACiiigAooooAKKKKACiiigAooooAKKKKACiiigAooooAKKKKACiiigAooooAKKKKACiiigAooooAKKKKACiiigAooooAKKKKACiiigAooooAKKKKACiiigAooooAKKKKACiiigAooooAKKKKACiiigAooooAKKKKACiiigAooooAKKKKACiiigAooooAKKKKACiiigAooooAKKKKACiiigAooooAKKKKACiiigAooooAKKKKACiiigAooooAKKKKACiiigAooooAKKKKACiiigAooooAKKoX+uaXpfF/fQQN0CM/zH6KOT1HbvVD/AISaS7wNF0e+vQTgSyJ9ni+u58Hr6A/0q1Tk1exDqQTtfU3qCQqkscAckntWF5Pie+OZbuy0uM87bdDPIPYs2F/Q9PfhB4QspsHVbm91QgYxdzkoP+ALhf0p8kV8T+4nnk/hj9+n/B/Anu/FOjWchia9SafGRDbgyufbC5/WoDrerXh26VoMyDj99qEghUe+0ZY/kO/fg69rY2lhHssbWG2Q/wAMMYQfkPqano5oLZfeHLN7u3p/wTCOma9fMft2spZxk/6rT4QDj/ffJ/ID+lPh8JaOkqzXNu99MvIlvZWnP/jxI/TsPStqij2kumnoP2UOuvrqNSNIkCRqqIvAVRgCnUUVmaBRRRQAUUUUAFFFFABRRRQAUUUUAFFFFABRRRQAUUUUAFOT/WL9RTacn+sX6igZq0UUVgaBRRRQAUUUUAFFFFAFS3+4/wD11f8A9DNSVHb/AHH/AOur/wDoZqSgAooooAitP+PKD/rmv8qlqK0/48oP+ua/yqWgAooooALP/j3P/XR//QzU9QWf/Huf+uj/APoZqegAooooAKKKKACiiigAooooAKKK57z7+38VQBtRnmsrlpF2yJD5KkAkIm0eZvG3kudvXvgBpXEdDVS+/wCWf4/0rn/E13qjLBqOh6rGumQ27TXIt7iISOuQQ6b4ZAwwG4yuT3rS1rUWso7YrZXl35gJzAgJXp1yRjOapKzTE2OopkMnmwRyFHjLqG2OMMuR0PvT60ICiiigAooooAKKKKACiiigAooooAKKKKACiiigAooooAKKKKACiiigAooooAKKKKACiiigAooooAKKKKACiiigAooooAKKKKACiiigAooooAKKKKACiiigAooooAKKKKACiiigAooooAKKKKACiiigAooooAKKKKACiiigAooooAKKKKACiiigAooooAKKKKACiiigAooooAKKKKACiiigAooooAKKKKACiiigAooooAKKKKACiiigAooooAKKKKACiiigAooooAKKKKACiiigAooooAKKKKACiiigAooooAKKKKACiiigAooooAKKKKACiiigAooooAKKKKACiiigAooooAKKKKACiiigAopskscMZkmdY0HVmOAPxrHl8W6Qs/kWs738+cGOyjaYj6lQQPz7H0NVGMpbImU4x+Jm1RWD/aev32P7P0ZLNCf9bqMwBx/1zTJ/Mj9c0v8AYmq3hzqmvThephsIxAoPpu5Y/mO3417O3xNf16Ee0v8ACm/w/M1rq+tLCPffXUNsh/imkCD8z9RWQfF1nPldHtrzVWxwbWE7M9su2F/X1qe08LaNZyCVbJJp8YM1wTK598tn9K16P3a8/wAAtUfZfj/X3GE0vie+OIbay0uM4+eZzPIPX5Vwv6np78J/wjMl3k61rF9egnJijf7PF9NqYPX1J/rW9RR7Rr4dP6+8PZJ/Fr/XbYoWGh6XpfOn6fb27f3kjG78+vc1fooqG23dmiioqyQUUUUhhRRRQAUUUUAFFFFABRRRQAUUUUAFFFFABRRRQAUUUUAFFFFABRRRQAUUUUAFOT/WL9RTaoXOrtaXnlLpl/c7cHfBEpU/iWFAzpqKKKwNAooooAKKKKACiiigCpb/AHH/AOur/wDoZqSo7f7j/wDXV/8A0M1JQAUUUUARWn/HlB/1zX+VS1Faf8eUH/XNf5VLQAUUUUAFn/x7n/ro/wD6GanqCz/49z/10f8A9DNT0AFFFFABRRRQAUUUUAFFFFABVKHRtMt9Qlv7fTrSK8mBEtykCrJJnruYDJ6d6u0UAUJNB0eZ7V5dKsXazAFszWyEwd/k4+Xp2qS+/wCWf4/0q3VS+/5Z/j/SqjuJ7FOiiitTMKKKKACiiigAooooAKKKKACiiigAooooAKKKKACiiigAooooAKKKKACiiigAooooAKKKKACiiigAooooAKKKKACiiigAooooAKKKKACiiigAooooAKKKKACiiigAooooAKKKKACiiigAooooAKKKKACiiigAooooAKKKKACiiigAooooAKKKKACiiigAooooAKKKKACiiigAooooAKKKKACiiigAooooAKKKKACiiigAooooAKKKKACiiigAooooAKKKKACiiigAooooAKKKKACiiigAooooAKKKKACiiigAooooAKKKKACiiigAooooAKKKKACiiigAooooAKKKpX+s6bpa51G+gt/9mSQBj9B1NNJt2Qm0ldl2isH/AISj7UcaNpV/qIzgSCPyYzx/ekxn8P8ADJs8UX+N8tjpMZPIjU3EoH1OF/Q/0q/ZtfFp/X3mftYv4df677G9WXeeJtGsJRFcahEZT/yyizI//fK5P6VWXwpBOd2sX17qbc5WaYrHz/sJgfnnr9K1LLTbHTYhHp9pDbLjGIowufrjrRamut/6/roF6j2SX4/195lHXdSu8rpOg3R4/wBbfMLdQf8AdOWP5f0NL9g8RXp/03VoLGM8GOwh3Njv88mfzCjt+O7RRzpfCl+Yezb+Jv8AL8jDj8I6UZPNv0l1KbOfMvpTL/46flH4CtmKGKBNkEaRp12ooA/Sn0VMpyluy4wjHZBRRRUlBRRRQAUUUUAFFFFABRRRQAUUUUAFFFFABRRRQAUUUUAFFFFABRRRQAUUUUAFFFFABRRRQAUUUUAFFFFABTk/1i/UU2nJ/rF+ooGatFFFYGgUUUUAFFFFABRRRQBUt/uP/wBdX/8AQzUlR2/3H/66v/6GakoAKKKKAIrT/jyg/wCua/yqWorT/jyg/wCua/yqWgAooooALP8A49z/ANdH/wDQzU9QWf8Ax7n/AK6P/wChmp6ACiiigAooooAKKKKACiiigAooooAKqX3/ACz/AB/pVuql9/yz/H+lVHcT2KdFFFamYUUUUAFFFFABRRRQAUUUUAFFFFABRRRQAUUUUAFFFFABRRRQAUUUUAFFFFABRRRQAUUUUAFFFFABRRRQAUUUUAFFFFABRRRQAUUUUAFFFFABRRRQAUUUUAFFFFABRRRQAUUUUAFFFFABRRRQAUUUUAFFFFABRRRQAUUUUAFFFFABRRRQAUUUUAFFFFABRRRQAUUUUAFFFFABRRRQAUUUUAFFFFABRRRQAUUUUAFFFFABRRRQAUUUUAFFFFABRRRQAUUUUAFFFFABRRRQAUUUUAFFFFABRRRQAUUUUAFFFFABRRRQAUUUUAFFFFABRRSMyohZ2CqoySTgAUALRWNceLdGgmMMd39qnBx5VojTNnpj5QcH61GNW1u9z/ZuheQh6S6jOI//ABxQzfy7e+NPZz6q3roZ+1hsnf01N2ori7t7SPzLueKBOTulcKPzNY40fWbxg2qa68S5yYdPiEQ+m9tzfy/rUtt4T0a3lEz2a3U/XzrtjM+c5zls459P60csFu/uFzTey+//AIFyI+LtOlfZpkd3qjDr9igLqP8AgZwv6/0pv2rxPfDNtp9npqY4N3KZX/75Tgfn/hW8qqiBUUKqjAAGABS0c0VsvvDkk/il9xhf8I5c3RzrGt3t0DwYrc/ZoyPQhPmP4t/SrlhoGlaY2+ysIY5CcmUrucn3Y5J/OtGik6kmrXKVOCd7BRRRUFhRRRQAUUUUAFFFFABRRRQAUUUUAFFFFABRRRQAUUUUAFFFFABRRRQAUUUUAFFFFABRRRQAUUUUAFFFFABRRRQAUUUUAFFFFABRRRQAU5P9Yv1FNpyf6xfqKBmrRRRWBoFFFFABRRRQAUUUUAVLf7j/APXV/wD0M1JUdv8Acf8A66v/AOhmpKACiiigCK0/48oP+ua/yqWorT/jyg/65r/KpaACiiigAs/+Pc/9dH/9DNT1BZ/8e5/66P8A+hmp6ACiiigAooooAKKKKACioL64ktdPuLiCBrmSKJnSFTzIQMhRwev0NZmga3eaxJcm60mawhUK9s8ocNKhLDLK6KUb5c7eSAy5wTgAG1RRRQAVUvv+Wf4/0q3VS+/5Z/j/AEqo7iexTooorUzCiiigAooooAKKKKACiiigAooooAKKKKACiiigAooooAKKKKACiiigAooooAKKKKACiiigAooooAKKKKACiiigAooooAKKKKACiiigAooooAKKKKACiiigAooooAKKKKACiiigAooooAKKKKACiiigAooooAKKKKACiiigAooooAKKKKACiiigAooooAKKKKACiiigAooooAKKKKACiiigAooooAKKKKACiiigAooooAKKKKACiiigAooooAKKKKACiiigAooooAKKKKACiiigAooooAKKKKACiiigAooooAKKqX2q2Gmpu1C9gthjI82QKT16A9ehrN/4SqG5B/sfT77UuQoeKEpGSf8AbfAx7jPX0q1CTV0iJVIRdmzdorCB8UX2cCw0mM9N265kH5FV/n19uU/4RWO5wdZ1K/1E5yUebyo/++EwKfJFfE/1/wCB+JPPJ/DH79P+D+BcvvEWkac+y81GBJM48oPucnn+EZPbHTrVRfEN3eY/snQrydCMiW5It0Ppjd8xz/u1pWGk6fpabNOsoLYd/LjAJ+p6noPyq3ReC2V/X+v1DlqPd29P+D/kYIs/Et6p+1alaacpXASzh8xh/wADfj/x3v7ZpyeEdMeQSaibjVJBjDX0xkAx/s8L+nc+tblFHtJdNPQfso9dfUit7aC0hEVrBHBGOiRoFA7dBUtFFZ7mmwUUUUAFFFFABRRRQAUUUUAFFFFABRRRQAUUUUAFFFFABRRRQAUUUUAFFFFABRRRQAUUUUAFFFFABRRRQAUUUUAFFFFABRRRQAUUUUAFFFFABRRRQAUUUUAFFFFABTk/1i/UU2nJ/rF+ooGatFFFYGgUUUUAFFFFABRRRQBUt/uP/wBdX/8AQzUlR2/3H/66v/6GakoAKKKKAIrT/jyg/wCua/yqWorT/jyg/wCua/yqWgAooooALP8A49z/ANdH/wDQzU9QWf8Ax7n/AK6P/wChmp6ACiiigAooooAKKKKAKWsnGh3xN39ixbv/AKTgnyflPz4BB468EVleE9UvNRhk+36ra6g3lpInk6TPYsiksvzLLI5JyhGOCMcip/FXiTRPDujzSa/e2UCSQybILq5SI3OF5RdxGSen41g/DbUNLuk1CDTBp7yRlJJZrDXZNVQh9xCmWQBlIIY7MYG7I6mgDuaKKKAOe8Uy39tB9q07ULiA26b3hiSEpjk75d4L7BtIxH83XGe1nXNRNktuRZ3V15gb/j2j3bcY65Ix1q5eaNpmo3MNxqGnWl1PbnMMs8Cu0ZznKkjI5APFLff8s/x/pVroSyhDJ50Ecmx496htjjDLkdCPWn0UVoQFFFFABRRRQAUUUUAFFFFABRRRQAUUUUAFFFFABRRRQAUUUUAFFFFABRRRQAUUUUAFFFFABRRRQAUUUUAFFFFABRRRQAUUUUAFFFFABRRRQAUUUUAFFFFABRRRQAUUUUAFFFFABRRRQAUUUUAFFFFABRRRQAUUUUAFFFFABRRRQAUUUUAFFFFABRRRQAUUUUAFFFFABRRRQAUUUUAFFFFABRRRQAUUUUAFFFFABRRRQAUUUUAFFFFABRRRQAUUUUAFFFFABRRRQAUUUUAFFFFABRQSFUljgDkk9qyLrxVo1rI0X21J5lGfJtgZn+mFz+vrVRjKWyJlKMfidjXorB/trWLzI0vQJUUnAmv5RCPrsGW7+g79+KP7K169ydQ1wWqk8xafAFwP999x/Qd/wr2dviaX9eRHtL/Cm/68zbmnitojJcSpFGOrOwUD8TWO3i7S3cx6eZ9TkBwVsYGlH/fQ+Udu/cdqWDwjo0cqzT2pvZwc+beyNMx/76JFbCRpEgSNVRF4CqMAUfu13f4f5h+8fZfj/kYYvvEl7g2mlWthGRndfTF29vkTp9C1J/wj1/dr/wATbX7yTIwY7QLbp+mWPbv+hxW/RR7Rr4VYPZJ/E2/68jMsvDej6e5e10+ESHrI43uf+BNk/rWnRRUOTlq2aRjGKslYKKKKQwooooAKKKKACiiigAooooAKKKKACiiigAooooAKKKKACiiigAooooAKKKKACiiigAooooAKKKKACiiigAooooAKKKKACiiigAooooAKKKKACiiigAooooAKKKKACiiigAooooAKKKKACqFzq5s7zyhpt/cYwd8EIZT+ORV+nJ/rF+ooGatFFFYGgUUUUAFFFFABRRRQBUt/uP8A9dX/APQzUlR2/wBx/wDrq/8A6GakoAKKKKAIrT/jyg/65r/KpaitP+PKD/rmv8qloAKKKKACz/49z/10f/0M1PUFn/x7n/ro/wD6GanoAKKKKACiiigAooooAz/EEz2/hvUZopmgeO1kZZVGShCnBHvWX4Ptjb28+7Sde00ttJGs6p9tL8fwH7RLtHr93Na+siJtDvlufK8k27iTzpzAm3ac7pBygx1YdOtcn8ONQtLv+0IbGa1uEhEZMtn4luNYi53fLvlA2EY5UdiDQB3NFFFABVS+/wCWf4/0q3VS+/5Z/j/SqjuJ7FOiiitTMKKKKACiiigAooooAKKKKACiiigAooooAKKKKACiiigAooooAKKKKACiiigAooooAKKKKACiiigAooooAKKKKACiiigAooooAKKKKACiiigAooooAKKKKACiiigAooooAKKKKACiiigAooooAKKKKACiiigAooooAKKKKACiiigAooooAKKKKACiiigAooooAKKKKACiiigAooooAKKKKACiiigAooooAKKKKACiiigAooooAKKKKACiiigAooooAKKKr3l/aafF5t9dQ2yf3pXCj9fqKEm9EDaSuyxRWCfFtrPkaTZ32pnHDW8BEZPpvbA/GlMvie+/1VvY6Uh43TSG4kA9dq4X9TyPfNaezkt9PUy9rF/Dr6f1Y3aoX2u6VpnF9fwQtnAQuCxPso5NUf8AhGWulP8AbGr397uILRrL5EfHbamP59qv2Gi6ZpgA0+wt7cjnckYDfn170Wgt3f8Ar+ugXqPZW9f6/UoDxJPd/wDIH0W+ux2lmUW8ZHrl+fTop4+mKQQeKL3Hn3ljpiEZ228RmkHtubC/p+db1FHOl8K/UPZt/FJ/l/wfxMIeEbCZR/as95qjf9PdwxX/AL4GF9O3Yd+a17aztrKLy7O3it4/7sSBR+QqaiplOUt2VGnGOqQUUUVJYUUUUAFFFFABRRRQAUUUUAFFFFABRRRQAUUUUAFFFFABRRRQAUUUUAFFFFABRRRQAUUUUAFFFFABRRRQAUUUUAFFFFABRRRQAUUUUAFFFFABRRRQAUUUUAFFFFABRRRQAUUUUAFFFFABRRRQAUUUUAFFFFABRRRQAU5P9Yv1FNpyf6xfqKBmrRRRWBoFFFFABRRRQAUUUUAVLf7j/wDXV/8A0M1JUdv9x/8Arq//AKGakoAKKKKAIrT/AI8oP+ua/wAqlqK0/wCPKD/rmv8AKpaACiiigAs/+Pc/9dH/APQzU9QWf/Huf+uj/wDoZqegAooooAKKKKACiiigCpqtzPZ6PeXNnF51xDA7xR7GbewUkDC8nJ7Dmsfwhq+oarDcNqdz5zIV2j+wLrTNuRyMTs2/6r0/GtrUb6PTNLub6ZXeO2iaVlTG4hRkgZIGeO5FYum+L2vdaTTL3QNU0qV0DK929synIYqP3UznJCOeRj5Tz0yAdHRRRQAVUvv+Wf4/0q3VS+/5Z/j/AEqo7iexTooorUzCiiigAooooAKKKKACiiigAooooAKKKKACiiigAooooAKKKKACiiigAooooAKKKKACiiigAooooAKKKKACiiigAooooAKKKKACiiigAooooAKKKKACiiigAooooAKKKKACiiigAooooAKKKKACiiigAooooAKKKKACiiigAooooAKKKKACiiigAooooAKKKKACiiigAooooAKKKKACiiigAooooAKKKKACiiigAooooAKKKKACism88U6LZNsl1CF5f+eUJ81z/wABXJqudd1O7yulaBddOJb5hAo98csfpgVoqc3rYzdWCdr/AHam9TZJY4YzJM6xoOrMcAfjWIdO8Q3v/H9rENkh6x6fB82P+uj5+nCjoD6ilj8IaR5nm3kMmoS5yZL6Vps/gTt/Sjlgt3939IXNN7R+/wDphJ4v0fzPKs531GbOPLsY2mP5rwPxPr6U3+0vEN7j7Do0VkhPEt/PyB6+WmfbjcO4963I4o4YxHCixoOiqMAfhTqOaC2X3/0g5ZveX3f0zC/sPVLvadU1+4Ax80ViggXP+9y36ip7Pwtotk2+LToXl/56zDzXP/Amya1qKHUltcapQTva/rqFFFFZmgUUUUAFFFFABRRRQAUUUUAFFFFABRRRQAUUUUAFFFFABRRRQAUUUUAFFFFABRRRQAUUUUAFFFFABRRRQAUUUUAFFFFABRRRQAUUUUAFFFFABRRRQAUUUUAFFFFABRRRQAUUUUAFFFFABRRRQAUUUUAFFFFABRRRQAUUUUAFFFFABRRRQAUUUUAFOT/WL9RTacn+sX6igZq0UUVgaBRRRQAUUUUAFFFFAFS3+4//AF1f/wBDNSVHb/cf/rq//oZqSgAooooAitP+PKD/AK5r/KpaitP+PKD/AK5r/KpaACiiigAs/wDj3P8A10f/ANDNT1BZ/wDHuf8Aro//AKGanoAKKKKACiiigAooooAp6vNLbaLez20AuJo4HaOEoX8xgpwu1eTnpgcmuW+HtpaxWc6Q2FhbKkqyrHa+F59HCuVILYmJ3nHG5eg4PWtzxXJcQeHbmex0+91G5jRvKt7Kby3YlSM/6xMgZzgHPccgVQ8H2l1bTXpk0vV9NtmWPy01fVGvJWf5txB8+YKuNvQg5zkdKAOooorGju9VTxMLWWayntXVnMUMLCW3X+BncuQdxBGNq98Z2mnYDZqpff8ALP8AH+lY/ifUtd02eCTSoIzp6xs93cNbCcxYIwdvnxnGNxO0MeOlWtb1L7Elsfst1deYGObaLdjp154zmqSs0yWOopkMnnQJJsdN6htjjDLkdCOxp9aEBRRRQAUUUUAFFFFABRRRQAUUUUAFFFFABRRRQAUUUUAFFFFABRRRQAUUUUAFFFFABRRRQAUUUUAFFFFABRRRQAUUUUAFFFFABRRRQAUUUUAFFFFABRRRQAUUUUAFFFFABRRRQAUUUUAFFFFABRRRQAUUUUAFFFFABRRRQAUUUUAFFFFABRRRQAUUUUAFFFFABRRRQAUUUUAFFFFABRRRQAUUUUAFFQ3N5bWUXmXlxFbx/wB6Vwo/M1kN4usJcDS4bvVHIJAtIGZfxc4X179qqMJS2REqkY7s3aKwmuPE17lbeys9MTH37mXznH0VOOPdqD4bnu/+QxrV9djvFCwt4yPTCc+vVjx9M1XIl8T/AFJ9o38Mf0/4P4Ghf6zpulrnUb6C3/2ZJAGP0HU1nnxObnA0fSb++z0kaLyI/wDvqTHv0B6fTNyw8P6TpjbrHT4InznzAmX/AO+jzWjReC2V/wCv66hao93b+v66GF5fie9A8yex0pCSSIkNxIB2GWwufwPT8KQeErWfB1e9vtUOOVuJyI8/7i4H556/St6ij2kl8OnoHsov4tfX+rFe00+z0+MJY2kNuoGMRRhf5VYoorNtvVmqSSsgooooAKKKKACiiigAooooAKKKKACiiigAooooAKKKKACiiigAooooAKKKKACiiigAooooAKKKKACiiigAooooAKKKKACiiigAooooAKKKKACiiigAooooAKKKKACiiigAooooAKKKKACiiigAooooAKKKKACiiigAooooAKKKKACiiigAooooAKKKKACiiigAooooAKKKKACnJ/rF+optULnWPsd55X9nX8+MHfBBuU/jmgZ01FFFYGgUUUUAFFFFABRRRQBUt/uP/wBdX/8AQzUlR2/3H/66v/6GakoAKKKKAIrT/jyg/wCua/yqWorT/jyg/wCua/yqWgAooooALP8A49z/ANdH/wDQzU9QWf8Ax7n/AK6P/wChmp6ACiiigAooooAKKKKAKOufZv8AhH9Q+3eYLb7NJ5vlDLbdpzj3xXO+BrbTbeW7ayhv4rueKOW8N6IN8j75FLP5Pyl8qQccYCheBXT6i1wml3LWUKz3KxMYomxiRscKckDk8ckVk+FIoLazmhtPCL+GI9+9oSlqiysRywEEjjPHU4NAG/WXb+HdPtdTmv7f7Wk0ztJIv22YxsxGCTGX2dPatSindgY7+FdJeG2hMMyw2sYiSJLuVUZB/C6hsSD2bNXL7jy8e/8ASrlVL7/ln+P9KcW2yXsU6KKK1ICiiigAooooAKKKKACiiigAooooAKKKKACiiigAooooAKKKKACiiigAooooAKKKKACiiigAooooAKKKKACiiigAooooAKKKKACiiigAooooAKKKKACiiigAooooAKKKKACiiigAooooAKKKKACiiigAooooAKKKKACiiigAooooAKKKKACiiigAooooAKKKKACiiigAoorNvvEekadJ5d3fwrLnHlId7/8AfK5P6U1FydkhSkoq7ZpUVgf8JDfXY/4lGg3kuRnzLvFug/76+Y/gP8QpsfEl9kXeqWunxkY2WMRdj6/O/T8F/lk37Nr4nYz9qn8Kb/rzNx5EiQvIyoi8lmOAKyLjxZo8ExhiuTeTg48mzRpmz/wEHH40xPCGlvIJNQ+0anIMENfTtKB/wE/L69u57VsQW8NrH5dtDHCnXbGoUfkKP3a7v8P8w/ePsvx/yMY6prt5gadon2ZD/wAtdRmC4/4Am4/qO34J/Y2sXmP7U16REJyYtPiEI+m85bH5fnzW9RR7S3wpL+vMPZ3+Jt/15GRbeFdGtphObNbifvNdMZnJ9cuTj8PU+ta4AVQFGAOAB2ooqZSlLdlxjGPwqwUUUVJQUUUUAFFFFABRRRQAUUUUAFFFFABRRRQAUUUUAFFFFABRRRQAUUUUAFFFFABRRRQAUUUUAFFFFABRRRQAUUUUAFFFFABRRRQAUUUUAFFFFABRRRQAUUUUAFFFFABRRRQAUUUUAFFFFABRRRQAUUUUAFFFFABRRRQAUUUUAFFFFABRRRQAUUUUAFFFFABRRRQAUUUUAFFFFABRRRQAUUUUAFFFFABTk/1i/UU2nJ/rF+ooGatFFFYGgUUUUAFFFFABRRRQBUt/uP8A9dX/APQzUlR2/wBx/wDrq/8A6GakoAKKKKAIrT/jyg/65r/KpaitP+PKD/rmv8qloAKKKKACz/49z/10f/0M1PUFn/x7n/ro/wD6GanoAKKKKACiiigAooooAyPFeo6bpfha/uNbvVsrMwsjzGVYyNwwApYgbj2Getc78Of7KVr2HSNX03VlhjjTztIhSO1iTdIyxALI/wAy7jnkYBXArrNajnl0G+js4lmuGt3EUbKrBm2nAwxCnn149ayPCH9r+Rcf23/bofK7P7Y+wenOz7Jxj/e9sUAdJRRRQAVUvv8Aln+P9Kt1Uvv+Wf4/0qo7iexTooorUzCiiigAooooAKKKKACiiigAooooAKKKKACiiigAooooAKKKKACiiigAooooAKKKKACiiigAooooAKKKKACiiigAooooAKKKKACiiigAooooAKKKKACiiigAooooAKKKKACiiigAooooAKKKKACiiigAooooAKKKKACiiigAooooAKKKKACiiori5gtITLdTxwRjq8jhQO/U0bhsS0Vhv4u0x5DHpwuNUkGcrYwmQDH+1wv69x600X3iS+wbTS7XT4yM776Uux9PkTp+LfywdPZy66epn7WPTX0N6ql/q2n6Wm7Ub2C2HbzJACfoOp6Gsw+Hby8z/bGu3lwpGDFagWyEd87csf8Avr1q5ZeHdI0+XzbTT4Vl4/esu9+P9psnsO9FoLd39P6/QXNUeyt6/wDA/wAyn/wlUdzkaLp19qZzgSRxeXEf+BvgdPTNH/FUXx5+waTHntm5k6f8BX+fX253qKOeK+Ffr/wPwDkk/il92n/B/Ewf+EVjucHWtRvtTOcmOSXy4j/wBMDp65rTsdKsNNTbp9lBbDGD5UYUnp1I69BVuik6kmrNlRpwi7pBRRRUFhRRRQAUUUUAFFFFABRRRQAUUUUAFFFFABRRRQAUUUUAFFFFABRRRQAUUUUAFFFFABRRRQAUUUUAFFFFABRRRQAUUUUAFFFFABRRRQAUUUUAFFFFABRRRQAUUUUAFFFFABRRRQAUUUUAFFFFABRRRQAUUUUAFFFFABRRRQAUUUUAFFFFABRRRQAUUUUAFFFFABRRRQAUUUUAFFFFABRRRQAUUUUAFFFFABRRRQAUUUUAFFFFABTk/wBYv1FNpyf6xfqKBmrRRRWBoFFFFABRRRQAUUUUAVLf7j/9dX/9DNSVHb/cf/rq/wD6GakoAKKKKAIrT/jyg/65r/KpaitP+PKD/rmv8qloAKKKKACz/wCPc/8AXR//AEM1PUFn/wAe5/66P/6GanoAKKKKACiiigAooooAr31rZXVuw1KC3mhQMSLhFZVBUhjzx90kH2JrL8NWXhS0gd/B1to8EU6rI50qOJVkU52sfL6jg4Psau680K+HdQa6ga4hFtIZIlOC67TkZ7VieCNG1bS4bqTXPLkmmIMcq34uSUyzbflt4VUAux6EnPJ4FAHVUUUUAFVL7/ln+P8ASrdVL7/ln+P9KqO4nsU6KKK1MwooooAKKKKACiiigAooooAKKKKACiiigAooooAKKKKACiiigAooooAKKKKACiiigAooooAKKKKACiiigAooooAKKKKACiiigAooooAKKKKACiiigAooooAKKKKACiiigAooooAKKKKACiiigAooooAKKKKACiiigAorOv8AX9K0xtl7fwxyE4EQbc5PsoyT+VU18ST3hxo+i3t0vOJpgLeM/i/J/Bf5GrVOTV7EOpBO19TdpGZUQs7BVUZJJwAKwhb+Jr7BnvrPS0xnZaxec/0LPx+S+v1pR4R06V9+pyXeqMOn22cuo/4AML+n9afLFbv7ieeT+GP36f8ABJrnxVo1tMYBeLcT9obVTM5PphAcfj6j1qD+2dZvcjStCeJM4E2oyiEfXYMt/L+lbFtZ21lF5dnbxW8f92JAo/IVNRzQWy+8OWb3f3f8Ewv7K1u8k3ahrf2ePdnydPhCcf77bj/Lv7Ykt/CejwTCaW2N5ODnzrx2mbP/AAInH4Vs0Ue0l009B+yh1V/XURVVECooVVGAAMACloorM0CiiigAooooAKKKKACiiigAooooAKKKKACiiigAooooAKKKKACiiigAooooAKKKKACiiigAooooAKKKKACiiigAooooAKKKKACiiigAooooAKKKKACiiigAooooAKKKKACiiigAooooAKKKKACiiigAooooAKKKKACiiigAooooAKKKKACiiigAooooAKKKKACiiigAooooAKKKKACiiigAooooAKKKKACiiigAooooAKKKKACiiigAooooAKKKKACiiigApyf6xfqKbTk/1i/UUDNWiiisDQKKKKACiiigAooooAqW/wBx/wDrq/8A6GakqO3+4/8A11f/ANDNSUAFFFFAEVp/x5Qf9c1/lUtRWn/HlB/1zX+VS0AFFFFABZ/8e5/66P8A+hmp6gs/+Pc/9dH/APQzU9ABRRRQAUUUUAFFFFAFHW7eS70G/toHVJJbeREZ5CiglSASwBIHviub+HR0qSwu5dE03wpZxb1SR/DV6twkjAfxlYY8EZGBz1rpNcFsfD9/9vSSS1+zSeckf3mTacge+K53wNd2d7c6hNBqGpapLtiC3199mxNDl9hj8gKuzO/BZQTnPK7aAOwooooAxtfu9VsvJl0yayCkhRbzwu8ly5P3EIdQvAPJDY6kYBpdd1H7B9nzaXVxv3f8e8RfbjHX061LqPh6w1S+ivLr7UtxChjSS3vZoCFJBI/duueQOvpU96MCMDtnqfpVq2hLKMMnnQRybHTeoba4wy5HQjsafRRWhAUUUUAFFFFABRRRQAUUUUAFFFFABRRRQAUUUUAFFFFABRRRQAUUUUAFFFFABRRRQAUUUUAFFFFABRRRQAUUUUAFFFFABRRRQAUUUUAFFFFABRRRQAUUUUAFFFFABRRRQAUUUUAFFFFABRTZJY4YzJM6xoOrMcAfjWM/i7Sml8qxkl1GXONljEZcfVh8o/OqjCUtkTKcY/EzborBGo+Ib4/6DpENlGc4k1CfLf8AfCZ/Ikd+nWgaFqV3htW166PH+qsVFuoP+8Msfz/qKr2aXxP9SPaN/Cn+X5mreajZaem+/u4LZexlkC5/Osv/AISy2uTt0ezvdTPZ7eHbHn3d8L+Wev1qxZ+F9GsWLw6fE8pGDLMPNc/8CbJrVovTW2v9f11C1R7tL8f6+4wd/ii/zsisdJjJ4MjG4lA+gwv6n+tH/CL/AGo7tZ1a/vznJjEvkR9P7seP1J/nneoo9o18On9feHsov4tf67bFKw0bTdLXGnWMFv8A7UcYDH6nqau0UVDbbuzRJJWQUUUUhhRRRQAUUUUAFFFFABRRRQAUUUUAFFFFABRRRQAUUUUAFFFFABRRRQAUUUUAFFFFABRRRQAUUUUAFFFFABRRRQAUUUUAFFFFABRRRQAUUUUAFFFFABRRRQAUUUUAFFFFABRRRQAUUUUAFFFFABRRRQAUUUUAFFFFABRRRQAUUUUAFFFFABRRRQAUUUUAFFFFABRRRQAUUUUAFFFFABRRRQAUUUUAFFFFABRRRQAUUUUAFFFFABRRRQAUUUUAFFFFABRRRQAUUUUAFFFFABRRRQAVQudYFneeUbC/nxg74Lcup/Gr9OT/AFi/UUDNWiiisDQKKKKACiiigAooooAqW/3H/wCur/8AoZqSo7f7j/8AXV//AEM1JQAUUUUARWn/AB5Qf9c1/lUtRWn/AB5Qf9c1/lUtABRRRQAWf/Huf+uj/wDoZqeoLP8A49z/ANdH/wDQzU9ABRRRQAUUUUAFFFFABRRRQAUUUUAFVL7/AJZ/j/SrdVL7/ln+P9KqO4nsU6KKK1MwooooAKKKKACiiigAooooAKKKKACiiigAooooAKKKKACiiigAooooAKKKKACiiigAooooAKKKKACiiigAooooAKKKKACiiigAooooAKKKKACiiigAooooAKKKo3+t6Xpef7Q1C3t2H8DyAMenbr3FNJt2QnJRV2XqKwf+Emku8f2No1/egniV08iM/wDAnwT+VKIvE99/rbix0pDzthjNxIB6bmwv6Hke+Kv2bXxaf195n7VP4df677G7WTd+KdFs3aOS/iklUZMUGZX/AO+VyagXwlaTYbVrq81R8YIuZzs564RcL+hrVs7C00+LyrG1htk/uxIFH6fU0fu15/gF6j7L8f6+8yv7b1W8ONL0GcL0E1/IIFB9dvLH8h3/ABT+zfEF7k32sx2SE8xafAM4/wB98nPuAP6VvUUe0t8KX5/mHs7/ABNv8PyMSLwjpAk828gfUZv+el9IZj0x0bgfgPT0FbMcUcMYjhRY0HRVGAPwp1FTKcpbsuMIx+FBRRRUlBRRRQAUUUUAFFFFABRRRQAUUUUAFFFFABRRRQAUUUUAFFFFABRRRQAUUUUAFFFFABRRRQAUUUUAFFFFABRRRQAUUUUAFFFFABRRRQAUUUUAFFFFABRRRQAUUUUAFFFFABRRRQAUUUUAFFFFABRRRQAUUUUAFFFFABRRRQAUUUUAFFFFABRRRQAUUUUAFFFFABRRRQAUUUUAFFFFABRRRQAUUUUAFFFFABRRRQAUUUUAFFFFABRRRQAUUUUAFFFFABRRRQAUUUUAFFFFABRRRQAUUUUAFFFFABRRRQAUUUUAFOT/AFi/UU2nJ/rF+ooGatFFFYGgUUUUAFFFFABRRRQBUt/uP/11f/0M1JUdv9x/+ur/APoZqSgAooooAitP+PKD/rmv8qlqK0/48oP+ua/yqWgAooooALP/AI9z/wBdH/8AQzU9QWf/AB7n/ro//oZqegAooooAKKKKACiiigAooooAKKKKACql9/yz/H+lW6qX3/LP8f6VUdxPYp0UUVqZhRRRQAUUUUAFFFFABRRRQAUUUUAFFFFABRRRQAUUUUAFFFFABRRRQAUUUUAFFFFABRRRQAUUUUAFFFFABRRRQAUUUUAFFFFABRRTXkSJC8jKiLyWY4AoAdRWLP4u0eOVore5a9mU48uyiac5/wCAgj9ex9Kj/tTX73H2DQ1tUY8S6hOFI/4AmT+v+Naezl109dDP2sOjv6am9UNze2tkm+8uYbdeu6WQKP1rIGi6vec6pr0yKeTDp8awqPbcct69x27jNTWvhXRbRxILGOebvNc5mcn1y2f0o5YLd/cLmm9lb1/4BAfF9jNkaVb3uqEDraW7FP8Avs4X179vXigz+KL3Pk2ljpaYxm4kM8n1wuFH5np78bwAVQFGAOAB2oo54r4V9+ockn8Uvu0/4Jhf8I3NdA/2xrV9d7iCY4nFvGR6YTnH1J/Pmr1hoel6XzYWEEDdS6p8x+rHk9T371fopOpJq1ylTgne2oUUUVBYUUUUAFFFFABRRRQAUUUUAFFFFABRRRQAUUUUAFFFFABRRRQAUUUUAFFFFABRRRQAUUUUAFFFFABRRRQAUUUUAFFFFABRRRQAUUUUAFFFFABRRRQAUUUUAFFFFABRRRQAUUUUAFFFFABRRRQAUUUUAFFFFABRRRQAUUUUAFFFFABRRRQAUUUUAFFFFABRRRQAUUUUAFFFFABRRRQAUUUUAFFFFABRRRQAUUUUAFFFFABRRRQAUUUUAFFFFABRRRQAUUUUAFFFFABRRRQAUUUUAFFFFABRRRQAUUUUAFFFFABRRRQAUUUUAFFFFABRRRQAU5P9Yv1FNpyf6xfqKBmrRRRWBoFFFFABRRRQAUUUUAVLf7j/APXV/wD0M1JUdv8Acf8A66v/AOhmpKACiiigCK0/48oP+ua/yqWorT/jyg/65r/KpaACiiigAs/+Pc/9dH/9DNT1BZ/8e5/66P8A+hmp6ACiiigAooooAKKKKACiiigAoorMtr+8k8R3ljcQwJbxQxywukhZ33FgdwIAX7vQZ9c9gAadVL7/AJZ/j/SsfxPqWu6bPBJpUEZ09Y2e7uGthOYsEYO3z4zjG4naGPHSrWt6mtilsWt7q58wMQbaAvjGOuOnWrSs0yWOopkMnnQRyhXQOoba64YZHQjsafWhAUUUUAFFFFABRRRQAUUUUAFFFFABRRRQAUUUUAFFFFABRRRQAUUUUAFFFFABRRRQAUUUUAFFFFABRRRQAUVUv9W0/S03ajewWw7eZIAT9B1PQ1m/8JStyp/sfS7/AFDkBXWHyoz/AMCfFWqcmrpESqQi7Nm7RWFt8UXqjc1hpSEnO0NcSAfjtX+fX8KB4UguOdYv77UyeSk05SPP+4mB68HPBxT5Ir4n+v8AwPxJ55P4Y/fp/wAH8CzeeJdGsH8u51GAS5x5UbeY/wD3yuT+lVf+Eg1C7TOk6BeSAjiS8ZbdPbgkse/8Pp2Oa1LLS7HTUCWFnBbgDH7qMKSPr36Vao5oLZX9f6/UOWo93b0/4P8AkYX2DxFe7vtmrW9ijDHl2MG5h/wN/wCiilTwhpTOJL9Z9SlznfezNLz/ALv3f07kdOK3KKPaS6aeg/ZQ66+uoyGCK2iEdvEkUY6KihQPwFPoorM0CiiigAooooAKKKKACiiigAooooAKKKKACiiigAooooAKKKKACiiigAooooAKKKKACiiigAooooAKKKKACiiigAooooAKKKKACiiigAooooAKKKKACiiigAooooAKKKKACiiigAooooAKKKKACiiigAooooAKKKKACiiigAooooAKKKKACiiigAooooAKKKKACiiigAooooAKKKKACiiigAooooAKKKKACiiigAooooAKKKKACiiigAooooAKKKKACiiigAooooAKKKKACiiigAooooAKKKKACiiigAooooAKKKKACiiigAooooAKKKKACiiigAooooAKKKKACiiigApyf6xfqKbVC51lbK88lrG/mxg74LZnU/iKBnTUUUVgaBRRRQAUUUUAFFFFAFS3+4//AF1f/wBDNSVHb/cf/rq//oZqSgAooooAitP+PKD/AK5r/KpaitP+PKD/AK5r/KpaACiiigAs/wDj3P8A10f/ANDNT1BZ/wDHuf8Aro//AKGanoAKKKKACiiigAooooAKKKKACs9NDsk1mTVF+0/apU2Pm7lMZX08stsHfoOpJ71oUUAY7+FdJeG2hMMyw2sYiSJLuVUZB/C6hsSD2bNXL7jy8e/9KuVUvv8Aln+P9KqLbZL2KdFFFakBRRRQAUUUUAFFFFABRRRQAUUUUAFFFFABRRRQAUUUUAFFFFABRRRQAUUUUAFFIzKiFnYKqjJJOABWRc+LNGt5TCl4t1P08m0UzPnOMYXOOfX+tVGMpbImU4x+J2NiisH+19bvMjTdBaFSfll1CYRj/vhdzf5/Cj+yNbvMf2lrphQnJi0+AR/hvbcfT071Xs7fE0v68iPaX+FN/h+Zs3FzBaQmW6njgjHV5HCgd+prIbxdprsE05bnU3OTtsoGkHp97hf1p9v4S0aCYTPZi6nBz512xmcnrnLE1sKqogVFCqowABgAUfu13f4f5h+8fZfj/kYX2vxNep/o2m2emqR968nMr/8AfCDH5t3HuKD4curvP9ra7fXAYYMVuRbxkemF5/8AHq3qKPaNfCrB7JP4m3/XkZtj4d0jTn32enQJJnPmlNzk8fxHJ7Z69a0qKKhycnds0jFRVkgooopDCiiigAooooAKKKKACiiigAooooAKKKKACiiigAooooAKKKKACiiigAooooAKKKKACiiigAooooAKKKKACiiigAooooAKKKKACiiigAooooAKKKKACiiigAooooAKKKKACiiigAooooAKKKKACiiigAooooAKKKKACiiigAooooAKKKKACiiigAooooAKKKKACiiigAooooAKKKKACiiigAooooAKKKKACiiigAooooAKKKKACiiigAooooAKKKKACiiigAooooAKKKKACiiigAooooAKKKKACiiigAooooAKKKKACiiigAooooAKKKKACiiigAooooAKKKKACiiigAooooAKKKKACiiigApyf6xfqKbTk/1i/UUDNWiiisDQKKKKACiiigAooooAqW/3H/66v/6GakqO3+4//XV//QzUlABRRRQBFaf8eUH/AFzX+VS1Faf8eUH/AFzX+VS0AFFFFABZ/wDHuf8Aro//AKGanqCz/wCPc/8AXR//AEM1PQAUUUUAFFFFABRRRQAUUUUAFFFFABVS+/5Z/j/SrdVL7/ln+P8ASqjuJ7FOiiitTMKKKKACiiigAooooAKKKKACiiigAooooAKKKKACiiq17qVjpsRk1C7htlxnMsgXP0z1ppNuyBtJXZZorCPiuC440ewvtTJ4DwwFI8/774HpyM8HNJv8UX2QsVhpMeersbiT8htX9T/Wr9nJfFp/X3mXtYv4dfT/AD2N6s6+8Q6TprbbzUIEfO0Rhtzk+gUZJ/KqZ8Li6wdY1S/1D1jaXyoz/wAAjC+3XP6mtGx0jTtMQLp9lBbgd44wD+fU0Wgt3f8Ar+ugXqPZW/r+upmjxHdXeP7I0O+uARkSXAFtHj6tyfwH9aT7J4nvV/0nUbPTkI5W0hMr/wDfT8f+O9/xrfoo50vhX6h7Nv4pP8v6+8wh4Q06R9+pSXept2+23DOo/wCAjC/pWxb20FpCIrWCOCMdEjQKB26CpaKmU5S3ZcYRjsgoooqSgooooAKKKKACiiigAooooAKKKKACiiigAooooAKKKKACiiigAooooAKKKKACiiigAooooAKKKKACiiigAooooAKKKKACiiigAooooAKKKKACiiigAooooAKKKKACiiigAooooAKKKKACiiigAooooAKKKKACiiigAooooAKKKKACiiigAooooAKKKKACiiigAooooAKKKKACiiigAooooAKKKKACiiigAooooAKKKKACiiigAooooAKKKKACiiigAooooAKKKKACiiigAooooAKKKKACiiigAooooAKKKKACiiigAooooAKKKKACiiigAooooAKKKKACiiigAooooAKKKKACiiigAooooAKKKKACiiigAooooAKKKKACnJ/rF+optOT/AFi/UUDNWiiisDQKKKKACiiigAooooAqW/3H/wCur/8AoZqSo7f7j/8AXV//AEM1JQAUUUUARWn/AB5Qf9c1/lUtRWn/AB5Qf9c1/lUtABRRRQAWf/Huf+uj/wDoZqeoLP8A49z/ANdH/wDQzU9ABRRRQAUUUUAFFFFABRRRQAUUUUAFVL7/AJZ/j/SrdVL7/ln+P9KqO4nsU6KKK1MwooooAKKKKACiiigAoooJCqSxwBySe1ABRWRd+KdGs5DE16k0+MiG3Blc+2Fz+tQHW9WvDt0rQZkHH77UJBCo99oyx/Id+/B0VOe9jN1YXte/pqb1MmnitojJcSpFGOrOwUD8TWKdM16+Y/btZSzjJ/1WnwgHH+++T+QH9KfD4S0dJVmubd76ZeRLeytOf/HiR+nYelHLBbv7hc03tH7/AOmNfxfpTSGOwebUpc48uxiMv/jw+UfUn9KT7f4ivT/oWkwWMZ5El/NubHb5I8/kWHf8dtI0iQJGqoi8BVGAKdRzRWy+8OWb+KX3f0zBOgaheKBq2v3brtw0dmot1P4jLfr/ADxVq08NaPYy+bb6fD5vH72QGR+P9psmtSih1JPS41Sgne36hRRRWZoFFFFABRRRQAUUUUAFFFFABRRRQAUUUUAFFFFABRRRQAUUUUAFFFFABRRRQAUUUUAFFFFABRRRQAUUUUAFFFFABRRRQAUUUUAFFFFABRRRQAUUUUAFFFFABRRRQAUUUUAFFFFABRRRQAUUUUAFFFFABRRRQAUUUUAFFFFABRRRQAUUUUAFFFFABRRRQAUUUUAFFFFABRRRQAUUUUAFFFFABRRRQAUUUUAFFFFABRRRQAUUUUAFFFFABRRRQAUUUUAFFFFABRRRQAUUUUAFFFFABRRRQAUUUUAFFFFABRRRQAUUUUAFFFFABRRRQAUUUUAFFFFABRRRQAUUUUAFFFFABRRRQAUUUUAFFFFABRRRQAUUUUAFFFFABRRRQAUUUUAFFFFABRRRQAUUUUAFOT/WL9RTacn+sX6igZq0UUVgaBRRRQAUUUUAFFFFAFS3+4//AF1f/wBDNSVHb/cf/rq//oZqSgAooooAitP+PKD/AK5r/KpaitP+PKD/AK5r/KpaACiiigAs/wDj3P8A10f/ANDNT1BZ/wDHuf8Aro//AKGanoAKKKKACiiigAooooAKKKKACiiigDM1S/vLO+02O3hge3ubjyppHkIdPlYjaoGD06kjHoe0evakmn+Rvtrqffux9ngaTGMdcdOtWNS0Wz1aS3e9+07rZ98Xk3csIDepCMM/jnqfWpL7/ln+P9KtWuiWUIZBNBHKFdA6hgrrtYZHQjsfan0UVoQFFFFABRRRQAVlX2sXUN4bXT9HuryVcZkOIoRkZ++3Xt0B79xitWinFpPVXFJNrR2MLyfE98cy3dlpcZ5226GeQexZsL+h6e/CDwhZTYOq3N7qhAxi7nJQf8AXC/pW9RV+0kttPQz9lF/Fr6/1YgtbG0sI9ljaw2yH+GGMIPyH1NT0UVm23uapJKyCiiigAooooAKKKKACiiigAooooAKKKKACiiigAooooAKKKKACiiigAooooAKKKKACiiigAooooAKKKKACiiigAooooAKKKKACiiigAooooAKKKKACiiigAooooAKKKKACiiigAooooAKKKKACiiigAooooAKKKKACiiigAooooAKKKKACiiigAooooAKKKKACiiigAooooAKKKKACiiigAooooAKKKKACiiigAooooAKKKKACiiigAooooAKKKKACiiigAooooAKKKKACiiigAooooAKKKKACiiigAooooAKKKKACiiigAooooAKKKKACiiigAooooAKKKKACiiigAooooAKKKKACiiigAooooAKKKKACiiigAooooAKKKKACiiigAooooAKKKKACiiigAooooAKKKKACiiigAqhc6ylleCF7K/lIwd8Fq0in8RV+nJ/rF+ooGatFFFYGgUUUUAFFFFABRRRQBUt/uP8A9dX/APQzUlR2/wBx/wDrq/8A6GakoAKKKKAIrT/jyg/65r/KpaitP+PKD/rmv8qloAKKKKACz/49z/10f/0M1PUFn/x7n/ro/wD6GanoAKKKKACiiigAooooAKKKKACiiigAqreoz7NqluvQVaopp2YbmX5Mn/PNv++TR5Mn/PNv++TWpRVc5PKZfkyf882/75NHkyf882/75NalFHOHKZfkyf8APNv++TR5Mn/PNv8Avk1qUUc4cpl+TJ/zzb/vk1QsRfvqWppcxSiCOZBb7osAr5SE4OOfmLc8+ldHWVp+vRaje+QtpcwI6GS3nl2bLlQQCybWJHUfeCnnijmYWQvkyf8APNv++TR5Mn/PNv8Avk1qUUc4cpl+TJ/zzb/vk0eTJ/zzb/vk1qUUc4cpl+TJ/wA82/75NHkyf882/wC+TWpRRzhymX5Mn/PNv++TR5Mn/PNv++TWpRRzhymX5Mn/ADzb/vk0eTJ/zzb/AL5NalFHOHKZfkyf882/75NHkyf882/75NalFHOHKZfkyf8APNv++TR5Mn/PNv8Avk1qUUc4cpl+TJ/zzb/vk0eTJ/zzb/vk1qUUc4cpl+TJ/wA82/75NHkyf882/wC+TWpRRzhymX5Mn/PNv++TR5Mn/PNv++TWpRRzhymX5Mn/ADzb/vk0eTJ/zzb/AL5NalFHOHKZfkyf882/75NHkyf882/75NalFHOHKZfkyf8APNv++TVBBfnxFNE0Uv2MWsbIfK+XzC7hvmx1wF4z/OtTVNV/s3y1js7i+uJclLe22byq/eb52VcDI79xTbvXLSz8Ny62weS1jt/tGEwGK4z/ABEAH6kU+ZhZDPJk/wCebf8AfJo8mT/nm3/fJp2g63F4g00X1tC0ULMVUtNDKHx1IaJ3Xrx1zxWlS5mgsZfkyf8APNv++TR5Mn/PNv8Avk1qUUc4cpl+TJ/zzb/vk0eTJ/zzb/vk1qUUc4cpl+TJ/wA82/75NHkyf882/wC+TWpRRzhymX5Mn/PNv++TR5Mn/PNv++TWpRRzhymX5Mn/ADzb/vk0eTJ/zzb/AL5NalFHOHKZfkyf882/75NHkyf882/75NalFHOHKZfkyf8APNv++TR5Mn/PNv8Avk1qUUc4cpl+TJ/zzb/vk0eTJ/zzb/vk1qUUc4cpl+TJ/wA82/75NHkyf882/wC+TWpRRzhymX5Mn/PNv++TR5Mn/PNv++TWpRRzhymX5Mn/ADzb/vk0eTJ/zzb/AL5NalFHOHKZfkyf882/75NULkX665YxwxS/ZXjmMxEWRuGzbk446t9a6OqUmqwR61DpbJP580TSq3kt5eFxkb8Yzz0BJ9aOZhYg8mT/AJ5t/wB8mjyZP+ebf98mtSijnDlMvyZP+ebf98mjyZP+ebf98mtSijnDlMvyZP8Anm3/AHyaPJk/55t/3ya1KKOcOUy/Jk/55t/3yaPJk/55t/3ya1KKOcOUy/Jk/wCebf8AfJo8mT/nm3/fJrUoo5w5TL8mT/nm3/fJo8mT/nm3/fJrUoo5w5TL8mT/AJ5t/wB8mjyZP+ebf98mtSijnDlMvyZP+ebf98mjyZP+ebf98mtSijnDlMvyZP8Anm3/AHyaPJk/55t/3ya1KKOcOUy/Jk/55t/3yaPJk/55t/3ya1KKOcOUy/Jk/wCebf8AfJo8mT/nm3/fJrUoo5w5TL8mT/nm3/fJo8mT/nm3/fJrUoo5w5TL8mT/AJ5t/wB8mqGpi/jlsBZxSlXulWfbFuxHtbOeOBkDmugnmW3t3mkDlY1LERxs7ED0VQST7AZqDTb+LVNMt763WRYrhA6LKu1gD6jsfajmYWKvkyf882/75NHkyf8APNv++TVXSfFtprOt3em2ltNvs3dJZGmgIUq23lBIZACehKCt6m5NbhZMy/Jk/wCebf8AfJo8mT/nm3/fJrUopc4cpl+TJ/zzb/vk0eTJ/wA82/75NalFHOHKZfkyf882/wC+TR5Mn/PNv++TWpRRzhymX5Mn/PNv++TR5Mn/ADzb/vk1qUUc4cpl+TJ/zzb/AL5NHkyf882/75NalFHOHKZfkyf882/75NHkyf8APNv++TWpRRzhymX5Mn/PNv8Avk0eTJ/zzb/vk1qUUc4cpl+TJ/zzb/vk0eTJ/wA82/75NalFHOHKZfkyf882/wC+TR5Mn/PNv++TWpRRzhymX5Mn/PNv++TR5Mn/ADzb/vk1qUUc4cpl+TJ/zzb/AL5NHkyf882/75NalFHOHKZfkyf882/75NUNaF/DpMj6fFKbgPGFCRbjguobjB7Zro6p6lfy2ECvBp91qDs2PKtdgYDGckuyqBx60czDlK/kyf8APNv++TR5Mn/PNv8Avk1dsbyLUNPgvLfcI54xIoYYIBGeR61PRzMOUy/Jk/55t/3yaPJk/wCebf8AfJrUoo5w5TL8mT/nm3/fJo8mT/nm3/fJrUoo5w5TL8mT/nm3/fJo8mT/AJ5t/wB8mtSijnDlMvyZP+ebf98mjyZP+ebf98mtSijnDlMvyZP+ebf98mjyZP8Anm3/AHya1KKOcOUy/Jk/55t/3yaPJk/55t/3ya1KKOcOUy/Jk/55t/3yaPJk/wCebf8AfJrUoo5w5TL8mT/nm3/fJo8mT/nm3/fJrUoo5w5TL8mT/nm3/fJo8mT/AJ5t/wB8mtSijnDlMvyZP+ebf98mjyZP+ebf98mtSijnDlMvyZP+ebf98mjyZP8Anm3/AHya1KKOcOUy/Jk/55t/3yarail3Hpd09pHIZ1hcxbU3HdtOMDvz2rdrLsdb+2ak9lNp17ZPsMkTXIj2zIGwSu12I6jhgp56dcHMwsiGzjuXsYGnjk81o1L5TB3Y547VN5Mn/PNv++TVXUvFtppviK30Vraaa7uEV02zQICGJHAkkVmPBJCg1vU+ZoLIy/Jk/wCebf8AfJo8mT/nm3/fJrUopc4cpl+TJ/zzb/vk0eTJ/wA82/75NalFHOHKZfkyf882/wC+TR5Mn/PNv++TWpRRzhymX5Mn/PNv++TR5Mn/ADzb/vk1qUUc4cpl+TJ/zzb/AL5NHkyf882/75NalFHOHKZfkyf882/75NHkyf8APNv++TWpRRzhymX5Mn/PNv8Avk0eTJ/zzb/vk1qUUc4cpl+TJ/zzb/vk0eTJ/wA82/75NalFHOHKZfkyf882/wC+TR5Mn/PNv++TWpRRzhymX5Mn/PNv++TR5Mn/ADzb/vk1qUUc4cpl+TJ/zzb/AL5NHkyf882/75NalFHOHKZfkyf882/75NHkyf8APNv++TWpUVzMbe1kmEUkxRSwjiALP7DOBn8aOZhymDogv5tGt5NRilFywPmB4tp6ntgY4xV/yZP+ebf98mpdK1Uaos4a0uLOe3k8uWC42FkO0MOUZlOQQeDV+jmaCxl+TJ/zzb/vk0eTJ/zzb/vk1qUUc4cpl+TJ/wA82/75NHkyf882/wC+TWpRRzhymX5Mn/PNv++TTkikEi5jbr/drSoo5g5QoooqCgooooAKKKKACiiigCpb/cf/AK6v/wChmpKjt/uP/wBdX/8AQzUlABRRRQBFaf8AHlB/1zX+VS1Faf8AHlB/1zX+VS0AFFFFABZ/8e5/66P/AOhmp6gs/wDj3P8A10f/ANDNT0AFFFFABRRRQAUUUUAFFFFABRRRQAUUUUAFFFFABRRRQAUUUUAB5HNYul6FPYXsbz3kc9vaxNDZxJAUaNWIJ3tuO8/KACAvfrW1RTuAUUUUgCiiigAooooAKKKKACiiigAooooAKKKKACiiigAooooAKKKKACiiigAooooAzdV066u5ILnTbuK1u4QyK88BmQq2MgqGU54GDnt3qOHSr6zs/s2n6ksccdrHDAstuHCOpOXPILZGBtyMY4Na1FO7FYz9I06awW4kvLiO4urqXzZnih8pM7Qo2qWYjhR1Y8/lWhRRS3GFFFFABRRRQAUUUUAFFFFABRRRQAUUUUAFFFFABRRRQAUUUUAFFFFABRRRQAVlXmm6hceILK+gvbaK3tlZWge1Z3fdjdhxIAPujHynv1rVop3sAUUUUgCiiigAooooAKKKKACiiigAooooAKKKKACiiigAooooAKKKKACiiigAooooAZOJWt3Fs6RzFTseRC6qexKgjI9sj61k6VpOpafpNlZyanC7W0gLvDabBLHg/IQztg5OdwPbpWzRTuBkW+lX51lb3Ur+C4SASLbJFamJlDkZ3tvbdgADgL6nPbXooovcAooopAFFFFABRRRQAUUUUAFFFFABRRRQAUUUUAFFFFABRRRQAUUUUAFFFFABWXrun6hqVnHDpuoRWX7zM3m27SrKmD8h2uhAzg8HtjoTWpRTWgENnHLDZxR3DRPKihWaGIxof91SWwPbJqaiikAUUUUAFFFFABRRRQAUUUUAFFFFABRRRQAUUUUAFFFFABRRRQAUUUUAFFFFABWDY6NrVtNfSXOsWs0lyrCOdbBlliPOzkylSq5+6FGep5JJ3qKd7CMa/wBI1HUGihl1OD7DiMzRm0zK7Ic5V94C5IH8Jx2IrZooouMKKKKQBRRRQAUUUUAFFFFABRRRQAUUUUAFFFFABRRRQAUUUUAFFFFABRRRQAVFdJPJayJaTLBMV+SRk3hT2JXIyPbI+tS0UAZeg6RJpFtMk0tuzSyGQpaW32eFM9dse5sEnJJzySTWpRRTbuAUUUUgCiiigAooooAKKKKACiiigAooooAKKKguruO0ERkDHzZViXaOhbpn2oAjt/uP/wBdX/8AQzUlR2/3H/66v/6GakoAKKKKAIrT/jyg/wCua/yqWiigAooooApnUorBmgmVydxYFQOhJP8AWj+3rX/nnN/3yP8AGiigA/t61/55zf8AfI/xo/t61/55zf8AfI/xoooAP7etf+ec3/fI/wAaP7etf+ec3/fI/wAaKKAD+3rX/nnN/wB8j/Gj+3rX/nnN/wB8j/GiigA/t61/55zf98j/ABo/t61/55zf98j/ABoooAP7etf+ec3/AHyP8aP7etf+ec3/AHyP8aKKAD+3rX/nnN/3yP8AGj+3rX/nnN/3yP8AGiigA/t61/55zf8AfI/xo/t61/55zf8AfI/xoooAP7etf+ec3/fI/wAaP7etf+ec3/fI/wAaKKAD+3rX/nnN/wB8j/Gj+3rX/nnN/wB8j/GiigA/t61/55zf98j/ABo/t61/55zf98j/ABoooAP7etf+ec3/AHyP8aP7etf+ec3/AHyP8aKKAD+3rX/nnN/3yP8AGj+3rX/nnN/3yP8AGiigA/t61/55zf8AfI/xo/t61/55zf8AfI/xoooAP7etf+ec3/fI/wAaP7etf+ec3/fI/wAaKKAD+3rX/nnN/wB8j/Gj+3rX/nnN/wB8j/GiigA/t61/55zf98j/ABo/t61/55zf98j/ABoooAP7etf+ec3/AHyP8aP7etf+ec3/AHyP8aKKAD+3rX/nnN/3yP8AGj+3rX/nnN/3yP8AGiigA/t61/55zf8AfI/xo/t61/55zf8AfI/xoooAP7etf+ec3/fI/wAaP7etf+ec3/fI/wAaKKAD+3rX/nnN/wB8j/Gj+3rX/nnN/wB8j/GiigA/t61/55zf98j/ABo/t61/55zf98j/ABoooAP7etf+ec3/AHyP8aP7etf+ec3/AHyP8aKKAD+3rX/nnN/3yP8AGj+3rX/nnN/3yP8AGiigA/t61/55zf8AfI/xo/t61/55zf8AfI/xoooAP7etf+ec3/fI/wAaP7etf+ec3/fI/wAaKKAD+3rX/nnN/wB8j/Gj+3rX/nnN/wB8j/GiigA/t61/55zf98j/ABo/t61/55zf98j/ABoooAP7etf+ec3/AHyP8aP7etf+ec3/AHyP8aKKAD+3rX/nnN/3yP8AGj+3rX/nnN/3yP8AGiigA/t61/55zf8AfI/xo/t61/55zf8AfI/xoooAP7etf+ec3/fI/wAaP7etf+ec3/fI/wAaKKAD+3rX/nnN/wB8j/Gj+3rX/nnN/wB8j/GiigA/t61/55zf98j/ABo/t61/55zf98j/ABoooAP7etf+ec3/AHyP8aP7etf+ec3/AHyP8aKKAD+3rX/nnN/3yP8AGj+3rX/nnN/3yP8AGiigA/t61/55zf8AfI/xo/t61/55zf8AfI/xoooAP7etf+ec3/fI/wAaP7etf+ec3/fI/wAaKKAD+3rX/nnN/wB8j/Gj+3rX/nnN/wB8j/GiigA/t61/55zf98j/ABo/t61/55zf98j/ABoooAP7etf+ec3/AHyP8aP7etf+ec3/AHyP8aKKAD+3rX/nnN/3yP8AGj+3rX/nnN/3yP8AGiigA/t61/55zf8AfI/xo/t61/55zf8AfI/xoooAP7etf+ec3/fI/wAaP7etf+ec3/fI/wAaKKAD+3rX/nnN/wB8j/Gj+3rX/nnN/wB8j/GiigA/t61/55zf98j/ABo/t61/55zf98j/ABoooAP7etf+ec3/AHyP8aP7etf+ec3/AHyP8aKKAD+3rX/nnN/3yP8AGj+3rX/nnN/3yP8AGiigA/t61/55zf8AfI/xo/t61/55zf8AfI/xoooAP7etf+ec3/fI/wAaP7etf+ec3/fI/wAaKKAD+3rX/nnN/wB8j/Gj+3rX/nnN/wB8j/GiigA/t61/55zf98j/ABo/t61/55zf98j/ABoooAP7etf+ec3/AHyP8aP7etf+ec3/AHyP8aKKAD+3rX/nnN/3yP8AGj+3rX/nnN/3yP8AGiigA/t61/55zf8AfI/xo/t61/55zf8AfI/xoooAP7etf+ec3/fI/wAaP7etf+ec3/fI/wAaKKAD+3rX/nnN/wB8j/Gj+3rX/nnN/wB8j/GiigA/t61/55zf98j/ABo/t61/55zf98j/ABoooAP7etf+ec3/AHyP8aP7etf+ec3/AHyP8aKKAD+3rX/nnN/3yP8AGj+3rX/nnN/3yP8AGiigA/t61/55zf8AfI/xo/t61/55zf8AfI/xoooAP7etf+ec3/fI/wAaP7etf+ec3/fI/wAaKKAD+3rX/nnN/wB8j/Gj+3rX/nnN/wB8j/GiigA/t61/55zf98j/ABo/t61/55zf98j/ABoooAP7etf+ec3/AHyP8aP7etf+ec3/AHyP8aKKAD+3rX/nnN/3yP8AGj+3rX/nnN/3yP8AGiigA/t61/55zf8AfI/xo/t61/55zf8AfI/xoooAP7etf+ec3/fI/wAaP7etf+ec3/fI/wAaKKAD+3rX/nnN/wB8j/Gj+3rX/nnN/wB8j/GiigA/t61/55zf98j/ABo/t61/55zf98j/ABoooAP7etf+ec3/AHyP8aP7etf+ec3/AHyP8aKKAD+3rX/nnN/3yP8AGj+3rX/nnN/3yP8AGiigA/t61/55zf8AfI/xo/t61/55zf8AfI/xoooAP7etf+ec3/fI/wAaP7etf+ec3/fI/wAaKKAD+3rX/nnN/wB8j/Gj+3rX/nnN/wB8j/GiigA/t61/55zf98j/ABo/t61/55zf98j/ABoooAP7etf+ec3/AHyP8aP7etf+ec3/AHyP8aKKAD+3rX/nnN/3yP8AGj+3rX/nnN/3yP8AGiigA/t61/55zf8AfI/xo/t61/55zf8AfI/xoooAP7etf+ec3/fI/wAaP7etf+ec3/fI/wAaKKAD+3rX/nnN/wB8j/Gj+3rX/nnN/wB8j/GiigA/t61/55zf98j/ABo/t61/55zf98j/ABoooAP7etf+ec3/AHyP8aP7etf+ec3/AHyP8aKKAD+3rX/nnN/3yP8AGj+3rX/nnN/3yP8AGiigA/t61/55zf8AfI/xo/t61/55zf8AfI/xoooAP7etf+ec3/fI/wAaP7etf+ec3/fI/wAaKKAD+3rX/nnN/wB8j/Gj+3rX/nnN/wB8j/GiigA/t61/55zf98j/ABo/t61/55zf98j/ABoooAP7etf+ec3/AHyP8aP7etf+ec3/AHyP8aKKAD+3rX/nnN/3yP8AGj+3rX/nnN/3yP8AGiigA/t61/55zf8AfI/xo/t61/55zf8AfI/xoooAP7etf+ec3/fI/wAaP7etf+ec3/fI/wAaKKAD+3rX/nnN/wB8j/Gj+3rX/nnN/wB8j/GiigA/t61/55zf98j/ABo/t61/55zf98j/ABoooAP7etf+ec3/AHyP8aP7etf+ec3/AHyP8aKKAD+3rX/nnN/3yP8AGs2SWzmu1mluNRcLMJViZl2Ag5Ax6UUUAbVuD5IJ/iJf6ZJP9akoooAKKKKAP//Z)"
      ]
    }
  ]
}