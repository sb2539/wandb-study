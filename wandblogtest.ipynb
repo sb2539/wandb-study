{
  "nbformat": 4,
  "nbformat_minor": 0,
  "metadata": {
    "colab": {
      "name": "wandblogtest.ipynb",
      "private_outputs": true,
      "provenance": []
    },
    "kernelspec": {
      "name": "python3",
      "display_name": "Python 3"
    },
    "language_info": {
      "name": "python"
    }
  },
  "cells": [
    {
      "cell_type": "code",
      "metadata": {
        "id": "NZVy-zdq6qmg"
      },
      "source": [
        "!pip install wandb"
      ],
      "execution_count": null,
      "outputs": []
    },
    {
      "cell_type": "code",
      "metadata": {
        "id": "eAoG_EPE67rZ"
      },
      "source": [
        "!wandb login"
      ],
      "execution_count": null,
      "outputs": []
    },
    {
      "cell_type": "code",
      "metadata": {
        "id": "2QvKzh9v7GCQ"
      },
      "source": [
        "import wandb\n",
        "\n",
        "wandb.init(project = \"wandb.log test\", entity = \"sb2539\", name = \"wandblog\")"
      ],
      "execution_count": null,
      "outputs": []
    },
    {
      "cell_type": "code",
      "metadata": {
        "id": "Fd2nSKvo70Lh"
      },
      "source": [
        "import matplotlib.pyplot as plt\n",
        "plt.plot([1, 2, 3, 4])\n",
        "plt.ylabel('some interesting numbers')\n",
        "wandb.log({\"chart\": plt})"
      ],
      "execution_count": null,
      "outputs": []
    }
  ]
}